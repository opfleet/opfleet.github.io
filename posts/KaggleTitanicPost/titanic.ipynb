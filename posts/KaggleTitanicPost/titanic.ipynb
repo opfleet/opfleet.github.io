{
 "cells": [
  {
   "cell_type": "raw",
   "metadata": {},
   "source": [
    "---\n",
    "title: Kaggle Titanic Competition\n",
    "author: Oscar Fleet\n",
    "date: '2024-05-31'\n",
    "image: \"titanic.jpg\"\n",
    "description: \"In this blog post, I will show my entry into the Kaggle competition titled Titanic - Machine Learning from Disaster.\"\n",
    "format: html\n",
    "---"
   ]
  },
  {
   "cell_type": "markdown",
   "metadata": {},
   "source": [
    "# Abstract\n",
    "\n",
    "In this blog post, I will be implementing and explaining my entry into the Kaggle competition titled *Titanic - Machine Learning from Disaster*. First, I will explore the Titanic survival dataset supplied by the competition and hopefully come up with an effective strategy to approach the problem. Then, I will compare a few classification models and determine which one I should use in my entry. Finally, I will tune the best model, and possibly further experiment to maximize its prediction accuracy."
   ]
  },
  {
   "cell_type": "markdown",
   "metadata": {},
   "source": [
    "# Data Exploration"
   ]
  },
  {
   "cell_type": "code",
   "execution_count": 40,
   "metadata": {},
   "outputs": [],
   "source": [
    "import pandas as pd\n",
    "\n",
    "df = pd.read_csv('train.csv')"
   ]
  },
  {
   "cell_type": "markdown",
   "metadata": {},
   "source": [
    "Here I load the data and get a quick look at it to analyze the features."
   ]
  },
  {
   "cell_type": "code",
   "execution_count": 41,
   "metadata": {},
   "outputs": [
    {
     "data": {
      "text/html": [
       "<div>\n",
       "<style scoped>\n",
       "    .dataframe tbody tr th:only-of-type {\n",
       "        vertical-align: middle;\n",
       "    }\n",
       "\n",
       "    .dataframe tbody tr th {\n",
       "        vertical-align: top;\n",
       "    }\n",
       "\n",
       "    .dataframe thead th {\n",
       "        text-align: right;\n",
       "    }\n",
       "</style>\n",
       "<table border=\"1\" class=\"dataframe\">\n",
       "  <thead>\n",
       "    <tr style=\"text-align: right;\">\n",
       "      <th></th>\n",
       "      <th>PassengerId</th>\n",
       "      <th>Survived</th>\n",
       "      <th>Pclass</th>\n",
       "      <th>Name</th>\n",
       "      <th>Sex</th>\n",
       "      <th>Age</th>\n",
       "      <th>SibSp</th>\n",
       "      <th>Parch</th>\n",
       "      <th>Ticket</th>\n",
       "      <th>Fare</th>\n",
       "      <th>Cabin</th>\n",
       "      <th>Embarked</th>\n",
       "    </tr>\n",
       "  </thead>\n",
       "  <tbody>\n",
       "    <tr>\n",
       "      <th>0</th>\n",
       "      <td>1</td>\n",
       "      <td>0</td>\n",
       "      <td>3</td>\n",
       "      <td>Braund, Mr. Owen Harris</td>\n",
       "      <td>male</td>\n",
       "      <td>22.0</td>\n",
       "      <td>1</td>\n",
       "      <td>0</td>\n",
       "      <td>A/5 21171</td>\n",
       "      <td>7.2500</td>\n",
       "      <td>NaN</td>\n",
       "      <td>S</td>\n",
       "    </tr>\n",
       "    <tr>\n",
       "      <th>1</th>\n",
       "      <td>2</td>\n",
       "      <td>1</td>\n",
       "      <td>1</td>\n",
       "      <td>Cumings, Mrs. John Bradley (Florence Briggs Th...</td>\n",
       "      <td>female</td>\n",
       "      <td>38.0</td>\n",
       "      <td>1</td>\n",
       "      <td>0</td>\n",
       "      <td>PC 17599</td>\n",
       "      <td>71.2833</td>\n",
       "      <td>C85</td>\n",
       "      <td>C</td>\n",
       "    </tr>\n",
       "    <tr>\n",
       "      <th>2</th>\n",
       "      <td>3</td>\n",
       "      <td>1</td>\n",
       "      <td>3</td>\n",
       "      <td>Heikkinen, Miss. Laina</td>\n",
       "      <td>female</td>\n",
       "      <td>26.0</td>\n",
       "      <td>0</td>\n",
       "      <td>0</td>\n",
       "      <td>STON/O2. 3101282</td>\n",
       "      <td>7.9250</td>\n",
       "      <td>NaN</td>\n",
       "      <td>S</td>\n",
       "    </tr>\n",
       "    <tr>\n",
       "      <th>3</th>\n",
       "      <td>4</td>\n",
       "      <td>1</td>\n",
       "      <td>1</td>\n",
       "      <td>Futrelle, Mrs. Jacques Heath (Lily May Peel)</td>\n",
       "      <td>female</td>\n",
       "      <td>35.0</td>\n",
       "      <td>1</td>\n",
       "      <td>0</td>\n",
       "      <td>113803</td>\n",
       "      <td>53.1000</td>\n",
       "      <td>C123</td>\n",
       "      <td>S</td>\n",
       "    </tr>\n",
       "    <tr>\n",
       "      <th>4</th>\n",
       "      <td>5</td>\n",
       "      <td>0</td>\n",
       "      <td>3</td>\n",
       "      <td>Allen, Mr. William Henry</td>\n",
       "      <td>male</td>\n",
       "      <td>35.0</td>\n",
       "      <td>0</td>\n",
       "      <td>0</td>\n",
       "      <td>373450</td>\n",
       "      <td>8.0500</td>\n",
       "      <td>NaN</td>\n",
       "      <td>S</td>\n",
       "    </tr>\n",
       "  </tbody>\n",
       "</table>\n",
       "</div>"
      ],
      "text/plain": [
       "   PassengerId  Survived  Pclass  \\\n",
       "0            1         0       3   \n",
       "1            2         1       1   \n",
       "2            3         1       3   \n",
       "3            4         1       1   \n",
       "4            5         0       3   \n",
       "\n",
       "                                                Name     Sex   Age  SibSp  \\\n",
       "0                            Braund, Mr. Owen Harris    male  22.0      1   \n",
       "1  Cumings, Mrs. John Bradley (Florence Briggs Th...  female  38.0      1   \n",
       "2                             Heikkinen, Miss. Laina  female  26.0      0   \n",
       "3       Futrelle, Mrs. Jacques Heath (Lily May Peel)  female  35.0      1   \n",
       "4                           Allen, Mr. William Henry    male  35.0      0   \n",
       "\n",
       "   Parch            Ticket     Fare Cabin Embarked  \n",
       "0      0         A/5 21171   7.2500   NaN        S  \n",
       "1      0          PC 17599  71.2833   C85        C  \n",
       "2      0  STON/O2. 3101282   7.9250   NaN        S  \n",
       "3      0            113803  53.1000  C123        S  \n",
       "4      0            373450   8.0500   NaN        S  "
      ]
     },
     "execution_count": 41,
     "metadata": {},
     "output_type": "execute_result"
    }
   ],
   "source": [
    "df.head(5)"
   ]
  },
  {
   "cell_type": "code",
   "execution_count": 42,
   "metadata": {},
   "outputs": [],
   "source": [
    "import seaborn as sns\n",
    "import matplotlib.pyplot as plt\n",
    "import numpy as np"
   ]
  },
  {
   "cell_type": "markdown",
   "metadata": {},
   "source": [
    "I don't think that most of these features will be relevant in predicting whether a passenger survived or not. Some will even be unusable as input to a classification model due to their values being unique (e.g., each ticket has their own number, which would create an enormous input vector if I were to one-hot encode it). Therefore, I drop the rows outside of `Survived`, `Pclass`, `Sex`, `Age`, and `Fare`."
   ]
  },
  {
   "cell_type": "code",
   "execution_count": 43,
   "metadata": {},
   "outputs": [],
   "source": [
    "df.drop(['PassengerId', 'Name', 'SibSp', 'Parch', 'Ticket', 'Cabin', 'Embarked'], axis= 1, inplace= True)"
   ]
  },
  {
   "cell_type": "markdown",
   "metadata": {},
   "source": [
    "Looking at the data types, I will have to one-hot encode the `Sex` feature in order to use it as input."
   ]
  },
  {
   "cell_type": "code",
   "execution_count": 44,
   "metadata": {},
   "outputs": [
    {
     "name": "stdout",
     "output_type": "stream",
     "text": [
      "<class 'pandas.core.frame.DataFrame'>\n",
      "RangeIndex: 891 entries, 0 to 890\n",
      "Data columns (total 5 columns):\n",
      " #   Column    Non-Null Count  Dtype  \n",
      "---  ------    --------------  -----  \n",
      " 0   Survived  891 non-null    int64  \n",
      " 1   Pclass    891 non-null    int64  \n",
      " 2   Sex       891 non-null    object \n",
      " 3   Age       714 non-null    float64\n",
      " 4   Fare      891 non-null    float64\n",
      "dtypes: float64(2), int64(2), object(1)\n",
      "memory usage: 34.9+ KB\n"
     ]
    }
   ],
   "source": [
    "df.info()"
   ]
  },
  {
   "cell_type": "code",
   "execution_count": 45,
   "metadata": {},
   "outputs": [
    {
     "data": {
      "text/html": [
       "<div>\n",
       "<style scoped>\n",
       "    .dataframe tbody tr th:only-of-type {\n",
       "        vertical-align: middle;\n",
       "    }\n",
       "\n",
       "    .dataframe tbody tr th {\n",
       "        vertical-align: top;\n",
       "    }\n",
       "\n",
       "    .dataframe thead th {\n",
       "        text-align: right;\n",
       "    }\n",
       "</style>\n",
       "<table border=\"1\" class=\"dataframe\">\n",
       "  <thead>\n",
       "    <tr style=\"text-align: right;\">\n",
       "      <th></th>\n",
       "      <th>Survived</th>\n",
       "      <th>Pclass</th>\n",
       "      <th>Age</th>\n",
       "      <th>Fare</th>\n",
       "      <th>Sex_female</th>\n",
       "      <th>Sex_male</th>\n",
       "    </tr>\n",
       "  </thead>\n",
       "  <tbody>\n",
       "    <tr>\n",
       "      <th>0</th>\n",
       "      <td>0</td>\n",
       "      <td>3</td>\n",
       "      <td>22.0</td>\n",
       "      <td>7.2500</td>\n",
       "      <td>False</td>\n",
       "      <td>True</td>\n",
       "    </tr>\n",
       "    <tr>\n",
       "      <th>1</th>\n",
       "      <td>1</td>\n",
       "      <td>1</td>\n",
       "      <td>38.0</td>\n",
       "      <td>71.2833</td>\n",
       "      <td>True</td>\n",
       "      <td>False</td>\n",
       "    </tr>\n",
       "    <tr>\n",
       "      <th>2</th>\n",
       "      <td>1</td>\n",
       "      <td>3</td>\n",
       "      <td>26.0</td>\n",
       "      <td>7.9250</td>\n",
       "      <td>True</td>\n",
       "      <td>False</td>\n",
       "    </tr>\n",
       "    <tr>\n",
       "      <th>3</th>\n",
       "      <td>1</td>\n",
       "      <td>1</td>\n",
       "      <td>35.0</td>\n",
       "      <td>53.1000</td>\n",
       "      <td>True</td>\n",
       "      <td>False</td>\n",
       "    </tr>\n",
       "    <tr>\n",
       "      <th>4</th>\n",
       "      <td>0</td>\n",
       "      <td>3</td>\n",
       "      <td>35.0</td>\n",
       "      <td>8.0500</td>\n",
       "      <td>False</td>\n",
       "      <td>True</td>\n",
       "    </tr>\n",
       "  </tbody>\n",
       "</table>\n",
       "</div>"
      ],
      "text/plain": [
       "   Survived  Pclass   Age     Fare  Sex_female  Sex_male\n",
       "0         0       3  22.0   7.2500       False      True\n",
       "1         1       1  38.0  71.2833        True     False\n",
       "2         1       3  26.0   7.9250        True     False\n",
       "3         1       1  35.0  53.1000        True     False\n",
       "4         0       3  35.0   8.0500       False      True"
      ]
     },
     "execution_count": 45,
     "metadata": {},
     "output_type": "execute_result"
    }
   ],
   "source": [
    "df = pd.get_dummies(df)\n",
    "df.head()"
   ]
  },
  {
   "cell_type": "markdown",
   "metadata": {},
   "source": [
    "Looking at distributions of passengers within ticket classes, most of the passengers rode in the 3rd class and the least amount of passengers, by very few, rode in 2nd class."
   ]
  },
  {
   "cell_type": "code",
   "execution_count": 46,
   "metadata": {},
   "outputs": [
    {
     "data": {
      "image/png": "[encoded data removed]",
      "text/plain": [
       "<Figure size 640x480 with 1 Axes>"
      ]
     },
     "metadata": {},
     "output_type": "display_data"
    }
   ],
   "source": [
    "plot1 = sns.countplot(data= df, x= 'Pclass')\n",
    "plot1.set(xlabel= 'Ticket Class', ylabel= 'Number of Passengers', title= 'Number of Passengers per Ticket Class')\n",
    "plt.show() "
   ]
  },
  {
   "cell_type": "markdown",
   "metadata": {},
   "source": [
    "Then, I calculate and graph the survival rates for each ticket class. As somewhat expected, there is a correlation between survivability and the ranking of the ticket classes, i.e., 1st class had the highest survival rate, followed by 2nd class, then 3rd class."
   ]
  },
  {
   "cell_type": "code",
   "execution_count": 47,
   "metadata": {},
   "outputs": [
    {
     "name": "stdout",
     "output_type": "stream",
     "text": [
      "The survival rate for ticket class 1 was 62.96%\n",
      "The survival rate for ticket class 2 was 47.28%\n",
      "The survival rate for ticket class 3 was 24.24%\n"
     ]
    }
   ],
   "source": [
    "class1 = df[df['Pclass'] == 1]\n",
    "class2 = df[df['Pclass'] == 2]\n",
    "class3 = df[df['Pclass'] == 3]\n",
    "\n",
    "sr_c1 = class1['Survived'].aggregate('mean')\n",
    "sr_c2 = class2['Survived'].aggregate('mean')\n",
    "sr_c3 = class3['Survived'].aggregate('mean')\n",
    "\n",
    "print(f'The survival rate for ticket class 1 was {sr_c1*100:.2f}%')\n",
    "print(f'The survival rate for ticket class 2 was {sr_c2*100:.2f}%')\n",
    "print(f'The survival rate for ticket class 3 was {sr_c3*100:.2f}%')"
   ]
  },
  {
   "cell_type": "code",
   "execution_count": 48,
   "metadata": {},
   "outputs": [
    {
     "name": "stderr",
     "output_type": "stream",
     "text": [
      "c:\\Users\\oscar\\anaconda3\\envs\\ml-0451\\lib\\site-packages\\seaborn\\_oldcore.py:1765: FutureWarning: unique with argument that is not not a Series, Index, ExtensionArray, or np.ndarray is deprecated and will raise in a future version.\n",
      "  order = pd.unique(vector)\n"
     ]
    },
    {
     "data": {
      "image/png": "[encoded data removed]",
      "text/plain": [
       "<Figure size 640x480 with 1 Axes>"
      ]
     },
     "metadata": {},
     "output_type": "display_data"
    }
   ],
   "source": [
    "plot2 = sns.barplot(x= ['Class 1', 'Class 2', 'Class 3'], y= [sr_c1, sr_c2, sr_c3])\n",
    "plot2.set(xlabel= 'Ticket Class', ylabel= 'Survival Rate', ylim= (0.0, 1.0), title= 'Survival Rate of each Ticket Class')\n",
    "plt.show()"
   ]
  },
  {
   "cell_type": "markdown",
   "metadata": {},
   "source": [
    "I then graph the age distribution across all passengers. It seems that most of the passengers fall between the 20-40 age range."
   ]
  },
  {
   "cell_type": "code",
   "execution_count": 49,
   "metadata": {},
   "outputs": [
    {
     "name": "stderr",
     "output_type": "stream",
     "text": [
      "c:\\Users\\oscar\\anaconda3\\envs\\ml-0451\\lib\\site-packages\\seaborn\\_oldcore.py:1119: FutureWarning: use_inf_as_na option is deprecated and will be removed in a future version. Convert inf values to NaN before operating instead.\n",
      "  with pd.option_context('mode.use_inf_as_na', True):\n"
     ]
    },
    {
     "data": {
      "image/png": "[encoded data removed]",
      "text/plain": [
       "<Figure size 640x480 with 1 Axes>"
      ]
     },
     "metadata": {},
     "output_type": "display_data"
    }
   ],
   "source": [
    "plot3 = sns.histplot(data= df, x= 'Age')\n",
    "plot3.set(ylabel= 'Number of Passengers', title= 'Age Distribution of Passengers')\n",
    "plt.show()"
   ]
  },
  {
   "cell_type": "markdown",
   "metadata": {},
   "source": [
    "I then create a heatmap of the feature correlation in my dataset. I am looking mainly at features that have a positive correlation with my independent variable (the one to be predicted), `Survived`. It seems that a passenger being a female has a large correlation with survivability, as well as the fare that someone paid for their ticket."
   ]
  },
  {
   "cell_type": "code",
   "execution_count": 50,
   "metadata": {},
   "outputs": [
    {
     "data": {
      "image/png": "[encoded data removed]",
      "text/plain": [
       "<Figure size 640x480 with 2 Axes>"
      ]
     },
     "metadata": {},
     "output_type": "display_data"
    }
   ],
   "source": [
    "plot4 = sns.heatmap(df.corr())"
   ]
  },
  {
   "cell_type": "markdown",
   "metadata": {},
   "source": [
    "Referring back to the `df.info()` call, there seems to be many empty values in the `Age` category. To deal with this, I take two approaches, one simply takes out all of the empty values, and the other replaces the missing values with the mean value of the `Age` category."
   ]
  },
  {
   "cell_type": "code",
   "execution_count": 51,
   "metadata": {},
   "outputs": [
    {
     "name": "stdout",
     "output_type": "stream",
     "text": [
      "(714, 6)\n",
      "(891, 6)\n"
     ]
    }
   ],
   "source": [
    "df_noNaN = df.copy().dropna()\n",
    "\n",
    "df_mean = df.copy()\n",
    "df_mean['Age'].fillna(df_mean['Age'].mean(), inplace= True)\n",
    "\n",
    "print(df_noNaN.shape)\n",
    "print(df_mean.shape)"
   ]
  },
  {
   "cell_type": "markdown",
   "metadata": {},
   "source": [
    "Here I create preprocessing methods for ease of use later; I make one for each method of dealing with the missing `Age` values."
   ]
  },
  {
   "cell_type": "code",
   "execution_count": 86,
   "metadata": {},
   "outputs": [],
   "source": [
    "def preprocess_noNaN(df):\n",
    "    df.drop(['PassengerId', 'Name', 'SibSp', 'Parch', 'Ticket', 'Cabin', 'Embarked'], axis= 1, inplace= True)\n",
    "    df = pd.get_dummies(df)\n",
    "    df = df.dropna(axis= 0)\n",
    "\n",
    "    y = [0]*len(df)\n",
    "    if 'Survived' in df:\n",
    "        y = df['Survived']\n",
    "        df.drop(['Survived'], axis= 1, inplace= True)\n",
    "\n",
    "    return df, y\n",
    "\n",
    "def preprocess_mean(df):\n",
    "    y = [0]*len(df)\n",
    "    if 'Survived' in df:\n",
    "        y = df['Survived']\n",
    "        df.drop(['Survived'], axis= 1, inplace= True)\n",
    "\n",
    "    df.drop(['PassengerId', 'Name', 'SibSp', 'Parch', 'Ticket', 'Cabin', 'Embarked'], axis= 1, inplace= True)\n",
    "    df = pd.get_dummies(df)\n",
    "    df['Age'].fillna(df['Age'].mean(), inplace= True)\n",
    "    return df, y"
   ]
  },
  {
   "cell_type": "markdown",
   "metadata": {},
   "source": [
    "# Building Models"
   ]
  },
  {
   "cell_type": "markdown",
   "metadata": {},
   "source": [
    "Here I will be implementing three different classification models from the `scikit-learn` library: a logistic regression model, a decision tree classifier, and a support vector machine."
   ]
  },
  {
   "cell_type": "code",
   "execution_count": 53,
   "metadata": {},
   "outputs": [],
   "source": [
    "from sklearn.linear_model import LogisticRegression\n",
    "from sklearn.tree import DecisionTreeClassifier\n",
    "from sklearn.svm import SVC"
   ]
  },
  {
   "cell_type": "markdown",
   "metadata": {},
   "source": [
    "I then split the data into training and testing sets, and preprocess each split using my premade methods so that they can be used as input for the classification models. I create two training/testing splits using the two different approaches for dealing with the missing `Age` values."
   ]
  },
  {
   "cell_type": "code",
   "execution_count": 54,
   "metadata": {},
   "outputs": [],
   "source": [
    "df = pd.read_csv('train.csv')\n",
    "\n",
    "train = df.sample(frac=0.75, random_state=100)\n",
    "test = df.drop(train.index)\n",
    "\n",
    "X_train_noNaN, y_train_noNaN = preprocess_noNaN(train.copy())\n",
    "X_train_mean, y_train_mean = preprocess_mean(train.copy())\n",
    "\n",
    "X_test_noNaN, y_test_noNaN = preprocess_noNaN(test.copy())\n",
    "X_test_mean, y_test_mean = preprocess_mean(test.copy())"
   ]
  },
  {
   "cell_type": "markdown",
   "metadata": {},
   "source": [
    "## Logistic Regression Classifier"
   ]
  },
  {
   "cell_type": "markdown",
   "metadata": {},
   "source": [
    "I will now implement two logistic regression models, each trained on one of the training/test splits, i.e., one model is trained on the split that has removed all missing `Age` values, and the other is trained on the split that has replaced the missing values with the mean `Age` value. I then fit the models on the training data, analyzed their classification accuracy on the training split, made predictions upon the testing split, and produced a classification report so that I can compare this model's accuracy against the others'."
   ]
  },
  {
   "cell_type": "code",
   "execution_count": 55,
   "metadata": {},
   "outputs": [
    {
     "data": {
      "text/html": [
       "<style>#sk-container-id-6 {color: black;}#sk-container-id-6 pre{padding: 0;}#sk-container-id-6 div.sk-toggleable {background-color: white;}#sk-container-id-6 label.sk-toggleable__label {cursor: pointer;display: block;width: 100%;margin-bottom: 0;padding: 0.3em;box-sizing: border-box;text-align: center;}#sk-container-id-6 label.sk-toggleable__label-arrow:before {content: \"▸\";float: left;margin-right: 0.25em;color: #696969;}#sk-container-id-6 label.sk-toggleable__label-arrow:hover:before {color: black;}#sk-container-id-6 div.sk-estimator:hover label.sk-toggleable__label-arrow:before {color: black;}#sk-container-id-6 div.sk-toggleable__content {max-height: 0;max-width: 0;overflow: hidden;text-align: left;background-color: #f0f8ff;}#sk-container-id-6 div.sk-toggleable__content pre {margin: 0.2em;color: black;border-radius: 0.25em;background-color: #f0f8ff;}#sk-container-id-6 input.sk-toggleable__control:checked~div.sk-toggleable__content {max-height: 200px;max-width: 100%;overflow: auto;}#sk-container-id-6 input.sk-toggleable__control:checked~label.sk-toggleable__label-arrow:before {content: \"▾\";}#sk-container-id-6 div.sk-estimator input.sk-toggleable__control:checked~label.sk-toggleable__label {background-color: #d4ebff;}#sk-container-id-6 div.sk-label input.sk-toggleable__control:checked~label.sk-toggleable__label {background-color: #d4ebff;}#sk-container-id-6 input.sk-hidden--visually {border: 0;clip: rect(1px 1px 1px 1px);clip: rect(1px, 1px, 1px, 1px);height: 1px;margin: -1px;overflow: hidden;padding: 0;position: absolute;width: 1px;}#sk-container-id-6 div.sk-estimator {font-family: monospace;background-color: #f0f8ff;border: 1px dotted black;border-radius: 0.25em;box-sizing: border-box;margin-bottom: 0.5em;}#sk-container-id-6 div.sk-estimator:hover {background-color: #d4ebff;}#sk-container-id-6 div.sk-parallel-item::after {content: \"\";width: 100%;border-bottom: 1px solid gray;flex-grow: 1;}#sk-container-id-6 div.sk-label:hover label.sk-toggleable__label {background-color: #d4ebff;}#sk-container-id-6 div.sk-serial::before {content: \"\";position: absolute;border-left: 1px solid gray;box-sizing: border-box;top: 0;bottom: 0;left: 50%;z-index: 0;}#sk-container-id-6 div.sk-serial {display: flex;flex-direction: column;align-items: center;background-color: white;padding-right: 0.2em;padding-left: 0.2em;position: relative;}#sk-container-id-6 div.sk-item {position: relative;z-index: 1;}#sk-container-id-6 div.sk-parallel {display: flex;align-items: stretch;justify-content: center;background-color: white;position: relative;}#sk-container-id-6 div.sk-item::before, #sk-container-id-6 div.sk-parallel-item::before {content: \"\";position: absolute;border-left: 1px solid gray;box-sizing: border-box;top: 0;bottom: 0;left: 50%;z-index: -1;}#sk-container-id-6 div.sk-parallel-item {display: flex;flex-direction: column;z-index: 1;position: relative;background-color: white;}#sk-container-id-6 div.sk-parallel-item:first-child::after {align-self: flex-end;width: 50%;}#sk-container-id-6 div.sk-parallel-item:last-child::after {align-self: flex-start;width: 50%;}#sk-container-id-6 div.sk-parallel-item:only-child::after {width: 0;}#sk-container-id-6 div.sk-dashed-wrapped {border: 1px dashed gray;margin: 0 0.4em 0.5em 0.4em;box-sizing: border-box;padding-bottom: 0.4em;background-color: white;}#sk-container-id-6 div.sk-label label {font-family: monospace;font-weight: bold;display: inline-block;line-height: 1.2em;}#sk-container-id-6 div.sk-label-container {text-align: center;}#sk-container-id-6 div.sk-container {/* jupyter's `normalize.less` sets `[hidden] { display: none; }` but bootstrap.min.css set `[hidden] { display: none !important; }` so we also need the `!important` here to be able to override the default hidden behavior on the sphinx rendered scikit-learn.org. See: https://github.com/scikit-learn/scikit-learn/issues/21755 */display: inline-block !important;position: relative;}#sk-container-id-6 div.sk-text-repr-fallback {display: none;}</style><div id=\"sk-container-id-6\" class=\"sk-top-container\"><div class=\"sk-text-repr-fallback\"><pre>LogisticRegression()</pre><b>In a Jupyter environment, please rerun this cell to show the HTML representation or trust the notebook. <br />On GitHub, the HTML representation is unable to render, please try loading this page with nbviewer.org.</b></div><div class=\"sk-container\" hidden><div class=\"sk-item\"><div class=\"sk-estimator sk-toggleable\"><input class=\"sk-toggleable__control sk-hidden--visually\" id=\"sk-estimator-id-6\" type=\"checkbox\" checked><label for=\"sk-estimator-id-6\" class=\"sk-toggleable__label sk-toggleable__label-arrow\">LogisticRegression</label><div class=\"sk-toggleable__content\"><pre>LogisticRegression()</pre></div></div></div></div></div>"
      ],
      "text/plain": [
       "LogisticRegression()"
      ]
     },
     "execution_count": 55,
     "metadata": {},
     "output_type": "execute_result"
    }
   ],
   "source": [
    "LR_noNaN = LogisticRegression()\n",
    "LR_mean = LogisticRegression()\n",
    "\n",
    "LR_noNaN.fit(X_train_noNaN, y_train_noNaN)\n",
    "LR_mean.fit(X_train_mean, y_train_mean)"
   ]
  },
  {
   "cell_type": "code",
   "execution_count": 56,
   "metadata": {},
   "outputs": [
    {
     "name": "stdout",
     "output_type": "stream",
     "text": [
      "Accuracy of logistic regression after removing missing values on the training data: 81.15%\n",
      "Accuracy of logistic regression after replacing missing values with the mean value on the training data: 79.49%\n"
     ]
    }
   ],
   "source": [
    "print(f'Accuracy of logistic regression after removing missing values on the training data: {LR_noNaN.score(X_train_noNaN, y_train_noNaN)*100:.2f}%')\n",
    "print(f'Accuracy of logistic regression after replacing missing values with the mean value on the training data: {LR_mean.score(X_train_mean, y_train_mean)*100:.2f}%')"
   ]
  },
  {
   "cell_type": "code",
   "execution_count": 57,
   "metadata": {},
   "outputs": [],
   "source": [
    "LR_preds_noNaN = LR_noNaN.predict(X_test_noNaN)\n",
    "LR_preds_mean = LR_mean.predict(X_test_mean)"
   ]
  },
  {
   "cell_type": "code",
   "execution_count": 58,
   "metadata": {},
   "outputs": [
    {
     "name": "stdout",
     "output_type": "stream",
     "text": [
      "Using testing data:\n",
      "Classification report for logistic regression without NaN values:\n",
      "              precision    recall  f1-score   support\n",
      "\n",
      "           0       0.84      0.83      0.84       105\n",
      "           1       0.74      0.76      0.75        68\n",
      "\n",
      "    accuracy                           0.80       173\n",
      "   macro avg       0.79      0.80      0.80       173\n",
      "weighted avg       0.80      0.80      0.80       173\n",
      "\n",
      "Classification report for logistic regression with mean age values:\n",
      "              precision    recall  f1-score   support\n",
      "\n",
      "           0       0.84      0.78      0.81       141\n",
      "           1       0.66      0.74      0.70        82\n",
      "\n",
      "    accuracy                           0.77       223\n",
      "   macro avg       0.75      0.76      0.75       223\n",
      "weighted avg       0.77      0.77      0.77       223\n",
      "\n",
      "The accuracy of the logistic regression model after taking out the NaN age values: 80.35%\n",
      "The accuracy of the logistic regression model using mean replacement for age values: 76.68%\n"
     ]
    }
   ],
   "source": [
    "from sklearn.metrics import accuracy_score, classification_report\n",
    "\n",
    "print('Using testing data:')\n",
    "print('Classification report for logistic regression without NaN values:')\n",
    "print(classification_report(y_true= y_test_noNaN, y_pred= LR_preds_noNaN))\n",
    "\n",
    "print('Classification report for logistic regression with mean age values:')\n",
    "print(classification_report(y_true= y_test_mean, y_pred= LR_preds_mean))\n",
    "\n",
    "LR_acc_noNaN = accuracy_score(y_true= y_test_noNaN, y_pred= LR_preds_noNaN)\n",
    "LR_acc_mean = accuracy_score(y_true= y_test_mean, y_pred= LR_preds_mean)\n",
    "\n",
    "print(f'The accuracy of the logistic regression model after taking out the NaN age values: {LR_acc_noNaN*100:.2f}%')\n",
    "print(f'The accuracy of the logistic regression model using mean replacement for age values: {LR_acc_mean*100:.2f}%')"
   ]
  },
  {
   "cell_type": "markdown",
   "metadata": {},
   "source": [
    "This seems like a fairly accurate, and fairly consistent model. The accuracy of the classifier don't fluctuate too much between the training and testing splits, and it performs to around a 77-80% accuracy on the unseen testing split."
   ]
  },
  {
   "cell_type": "markdown",
   "metadata": {},
   "source": [
    "## Decision Tree Classifier\n",
    "Now, I implement the Decision Tree Classifier from the `scikit-learn` library, and follow the same steps as with the logistic regression model."
   ]
  },
  {
   "cell_type": "code",
   "execution_count": 59,
   "metadata": {},
   "outputs": [
    {
     "data": {
      "text/html": [
       "<style>#sk-container-id-7 {color: black;}#sk-container-id-7 pre{padding: 0;}#sk-container-id-7 div.sk-toggleable {background-color: white;}#sk-container-id-7 label.sk-toggleable__label {cursor: pointer;display: block;width: 100%;margin-bottom: 0;padding: 0.3em;box-sizing: border-box;text-align: center;}#sk-container-id-7 label.sk-toggleable__label-arrow:before {content: \"▸\";float: left;margin-right: 0.25em;color: #696969;}#sk-container-id-7 label.sk-toggleable__label-arrow:hover:before {color: black;}#sk-container-id-7 div.sk-estimator:hover label.sk-toggleable__label-arrow:before {color: black;}#sk-container-id-7 div.sk-toggleable__content {max-height: 0;max-width: 0;overflow: hidden;text-align: left;background-color: #f0f8ff;}#sk-container-id-7 div.sk-toggleable__content pre {margin: 0.2em;color: black;border-radius: 0.25em;background-color: #f0f8ff;}#sk-container-id-7 input.sk-toggleable__control:checked~div.sk-toggleable__content {max-height: 200px;max-width: 100%;overflow: auto;}#sk-container-id-7 input.sk-toggleable__control:checked~label.sk-toggleable__label-arrow:before {content: \"▾\";}#sk-container-id-7 div.sk-estimator input.sk-toggleable__control:checked~label.sk-toggleable__label {background-color: #d4ebff;}#sk-container-id-7 div.sk-label input.sk-toggleable__control:checked~label.sk-toggleable__label {background-color: #d4ebff;}#sk-container-id-7 input.sk-hidden--visually {border: 0;clip: rect(1px 1px 1px 1px);clip: rect(1px, 1px, 1px, 1px);height: 1px;margin: -1px;overflow: hidden;padding: 0;position: absolute;width: 1px;}#sk-container-id-7 div.sk-estimator {font-family: monospace;background-color: #f0f8ff;border: 1px dotted black;border-radius: 0.25em;box-sizing: border-box;margin-bottom: 0.5em;}#sk-container-id-7 div.sk-estimator:hover {background-color: #d4ebff;}#sk-container-id-7 div.sk-parallel-item::after {content: \"\";width: 100%;border-bottom: 1px solid gray;flex-grow: 1;}#sk-container-id-7 div.sk-label:hover label.sk-toggleable__label {background-color: #d4ebff;}#sk-container-id-7 div.sk-serial::before {content: \"\";position: absolute;border-left: 1px solid gray;box-sizing: border-box;top: 0;bottom: 0;left: 50%;z-index: 0;}#sk-container-id-7 div.sk-serial {display: flex;flex-direction: column;align-items: center;background-color: white;padding-right: 0.2em;padding-left: 0.2em;position: relative;}#sk-container-id-7 div.sk-item {position: relative;z-index: 1;}#sk-container-id-7 div.sk-parallel {display: flex;align-items: stretch;justify-content: center;background-color: white;position: relative;}#sk-container-id-7 div.sk-item::before, #sk-container-id-7 div.sk-parallel-item::before {content: \"\";position: absolute;border-left: 1px solid gray;box-sizing: border-box;top: 0;bottom: 0;left: 50%;z-index: -1;}#sk-container-id-7 div.sk-parallel-item {display: flex;flex-direction: column;z-index: 1;position: relative;background-color: white;}#sk-container-id-7 div.sk-parallel-item:first-child::after {align-self: flex-end;width: 50%;}#sk-container-id-7 div.sk-parallel-item:last-child::after {align-self: flex-start;width: 50%;}#sk-container-id-7 div.sk-parallel-item:only-child::after {width: 0;}#sk-container-id-7 div.sk-dashed-wrapped {border: 1px dashed gray;margin: 0 0.4em 0.5em 0.4em;box-sizing: border-box;padding-bottom: 0.4em;background-color: white;}#sk-container-id-7 div.sk-label label {font-family: monospace;font-weight: bold;display: inline-block;line-height: 1.2em;}#sk-container-id-7 div.sk-label-container {text-align: center;}#sk-container-id-7 div.sk-container {/* jupyter's `normalize.less` sets `[hidden] { display: none; }` but bootstrap.min.css set `[hidden] { display: none !important; }` so we also need the `!important` here to be able to override the default hidden behavior on the sphinx rendered scikit-learn.org. See: https://github.com/scikit-learn/scikit-learn/issues/21755 */display: inline-block !important;position: relative;}#sk-container-id-7 div.sk-text-repr-fallback {display: none;}</style><div id=\"sk-container-id-7\" class=\"sk-top-container\"><div class=\"sk-text-repr-fallback\"><pre>DecisionTreeClassifier()</pre><b>In a Jupyter environment, please rerun this cell to show the HTML representation or trust the notebook. <br />On GitHub, the HTML representation is unable to render, please try loading this page with nbviewer.org.</b></div><div class=\"sk-container\" hidden><div class=\"sk-item\"><div class=\"sk-estimator sk-toggleable\"><input class=\"sk-toggleable__control sk-hidden--visually\" id=\"sk-estimator-id-7\" type=\"checkbox\" checked><label for=\"sk-estimator-id-7\" class=\"sk-toggleable__label sk-toggleable__label-arrow\">DecisionTreeClassifier</label><div class=\"sk-toggleable__content\"><pre>DecisionTreeClassifier()</pre></div></div></div></div></div>"
      ],
      "text/plain": [
       "DecisionTreeClassifier()"
      ]
     },
     "execution_count": 59,
     "metadata": {},
     "output_type": "execute_result"
    }
   ],
   "source": [
    "DT_noNaN = DecisionTreeClassifier()\n",
    "DT_mean = DecisionTreeClassifier()\n",
    "\n",
    "DT_noNaN.fit(X_train_noNaN, y_train_noNaN)\n",
    "DT_mean.fit(X_train_mean, y_train_mean)"
   ]
  },
  {
   "cell_type": "code",
   "execution_count": 60,
   "metadata": {},
   "outputs": [
    {
     "name": "stdout",
     "output_type": "stream",
     "text": [
      "Accuracy of decision tree classification after removing missing values on the training data: 99.08%\n",
      "Accuracy of decision tree classification after replacing missing values with the mean value on the training data: 98.80%\n"
     ]
    }
   ],
   "source": [
    "print(f'Accuracy of decision tree classification after removing missing values on the training data: {DT_noNaN.score(X_train_noNaN, y_train_noNaN)*100:.2f}%')\n",
    "print(f'Accuracy of decision tree classification after replacing missing values with the mean value on the training data: {DT_mean.score(X_train_mean, y_train_mean)*100:.2f}%')"
   ]
  },
  {
   "cell_type": "code",
   "execution_count": 61,
   "metadata": {},
   "outputs": [],
   "source": [
    "DT_preds_noNaN = DT_noNaN.predict(X_test_noNaN)\n",
    "DT_preds_mean = DT_mean.predict(X_test_mean)"
   ]
  },
  {
   "cell_type": "code",
   "execution_count": 62,
   "metadata": {},
   "outputs": [
    {
     "name": "stdout",
     "output_type": "stream",
     "text": [
      "Using testing data:\n",
      "Classification report for decision tree without NaN values:\n",
      "              precision    recall  f1-score   support\n",
      "\n",
      "           0       0.80      0.78      0.79       105\n",
      "           1       0.67      0.69      0.68        68\n",
      "\n",
      "    accuracy                           0.75       173\n",
      "   macro avg       0.73      0.74      0.73       173\n",
      "weighted avg       0.75      0.75      0.75       173\n",
      "\n",
      "Classification report for decision tree with mean age values:\n",
      "              precision    recall  f1-score   support\n",
      "\n",
      "           0       0.80      0.72      0.76       141\n",
      "           1       0.59      0.70      0.64        82\n",
      "\n",
      "    accuracy                           0.71       223\n",
      "   macro avg       0.69      0.71      0.70       223\n",
      "weighted avg       0.72      0.71      0.71       223\n",
      "\n",
      "The accuracy of the decision tree model after taking out the NaN age values: 74.57%\n",
      "The accuracy of the decision tree model using mean replacement for age values: 70.85%\n"
     ]
    }
   ],
   "source": [
    "print('Using testing data:')\n",
    "print('Classification report for decision tree without NaN values:')\n",
    "print(classification_report(y_true= y_test_noNaN, y_pred= DT_preds_noNaN))\n",
    "\n",
    "print('Classification report for decision tree with mean age values:')\n",
    "print(classification_report(y_true= y_test_mean, y_pred= DT_preds_mean))\n",
    "\n",
    "DT_acc_noNaN = accuracy_score(y_true= y_test_noNaN, y_pred= DT_preds_noNaN)\n",
    "DT_acc_mean = accuracy_score(y_true= y_test_mean, y_pred= DT_preds_mean)\n",
    "\n",
    "print(f'The accuracy of the decision tree model after taking out the NaN age values: {DT_acc_noNaN*100:.2f}%')\n",
    "print(f'The accuracy of the decision tree model using mean replacement for age values: {DT_acc_mean*100:.2f}%')"
   ]
  },
  {
   "cell_type": "markdown",
   "metadata": {},
   "source": [
    "While the accuracy of the Decision Tree classifier on the testing split is not terrible, it is a little worrying how high the accuracy of its performance on the training split is. This leads me to believe that given the relatively few features available for this model, the classifier is likely to overfit to the training data."
   ]
  },
  {
   "cell_type": "markdown",
   "metadata": {},
   "source": [
    "## Support Vector Machine Classifier"
   ]
  },
  {
   "cell_type": "markdown",
   "metadata": {},
   "source": [
    "I repeat the methodology of the Logistic Regression and Decision Tree classifiers with the Support Vector Machine model."
   ]
  },
  {
   "cell_type": "code",
   "execution_count": 63,
   "metadata": {},
   "outputs": [
    {
     "data": {
      "text/html": [
       "<style>#sk-container-id-8 {color: black;}#sk-container-id-8 pre{padding: 0;}#sk-container-id-8 div.sk-toggleable {background-color: white;}#sk-container-id-8 label.sk-toggleable__label {cursor: pointer;display: block;width: 100%;margin-bottom: 0;padding: 0.3em;box-sizing: border-box;text-align: center;}#sk-container-id-8 label.sk-toggleable__label-arrow:before {content: \"▸\";float: left;margin-right: 0.25em;color: #696969;}#sk-container-id-8 label.sk-toggleable__label-arrow:hover:before {color: black;}#sk-container-id-8 div.sk-estimator:hover label.sk-toggleable__label-arrow:before {color: black;}#sk-container-id-8 div.sk-toggleable__content {max-height: 0;max-width: 0;overflow: hidden;text-align: left;background-color: #f0f8ff;}#sk-container-id-8 div.sk-toggleable__content pre {margin: 0.2em;color: black;border-radius: 0.25em;background-color: #f0f8ff;}#sk-container-id-8 input.sk-toggleable__control:checked~div.sk-toggleable__content {max-height: 200px;max-width: 100%;overflow: auto;}#sk-container-id-8 input.sk-toggleable__control:checked~label.sk-toggleable__label-arrow:before {content: \"▾\";}#sk-container-id-8 div.sk-estimator input.sk-toggleable__control:checked~label.sk-toggleable__label {background-color: #d4ebff;}#sk-container-id-8 div.sk-label input.sk-toggleable__control:checked~label.sk-toggleable__label {background-color: #d4ebff;}#sk-container-id-8 input.sk-hidden--visually {border: 0;clip: rect(1px 1px 1px 1px);clip: rect(1px, 1px, 1px, 1px);height: 1px;margin: -1px;overflow: hidden;padding: 0;position: absolute;width: 1px;}#sk-container-id-8 div.sk-estimator {font-family: monospace;background-color: #f0f8ff;border: 1px dotted black;border-radius: 0.25em;box-sizing: border-box;margin-bottom: 0.5em;}#sk-container-id-8 div.sk-estimator:hover {background-color: #d4ebff;}#sk-container-id-8 div.sk-parallel-item::after {content: \"\";width: 100%;border-bottom: 1px solid gray;flex-grow: 1;}#sk-container-id-8 div.sk-label:hover label.sk-toggleable__label {background-color: #d4ebff;}#sk-container-id-8 div.sk-serial::before {content: \"\";position: absolute;border-left: 1px solid gray;box-sizing: border-box;top: 0;bottom: 0;left: 50%;z-index: 0;}#sk-container-id-8 div.sk-serial {display: flex;flex-direction: column;align-items: center;background-color: white;padding-right: 0.2em;padding-left: 0.2em;position: relative;}#sk-container-id-8 div.sk-item {position: relative;z-index: 1;}#sk-container-id-8 div.sk-parallel {display: flex;align-items: stretch;justify-content: center;background-color: white;position: relative;}#sk-container-id-8 div.sk-item::before, #sk-container-id-8 div.sk-parallel-item::before {content: \"\";position: absolute;border-left: 1px solid gray;box-sizing: border-box;top: 0;bottom: 0;left: 50%;z-index: -1;}#sk-container-id-8 div.sk-parallel-item {display: flex;flex-direction: column;z-index: 1;position: relative;background-color: white;}#sk-container-id-8 div.sk-parallel-item:first-child::after {align-self: flex-end;width: 50%;}#sk-container-id-8 div.sk-parallel-item:last-child::after {align-self: flex-start;width: 50%;}#sk-container-id-8 div.sk-parallel-item:only-child::after {width: 0;}#sk-container-id-8 div.sk-dashed-wrapped {border: 1px dashed gray;margin: 0 0.4em 0.5em 0.4em;box-sizing: border-box;padding-bottom: 0.4em;background-color: white;}#sk-container-id-8 div.sk-label label {font-family: monospace;font-weight: bold;display: inline-block;line-height: 1.2em;}#sk-container-id-8 div.sk-label-container {text-align: center;}#sk-container-id-8 div.sk-container {/* jupyter's `normalize.less` sets `[hidden] { display: none; }` but bootstrap.min.css set `[hidden] { display: none !important; }` so we also need the `!important` here to be able to override the default hidden behavior on the sphinx rendered scikit-learn.org. See: https://github.com/scikit-learn/scikit-learn/issues/21755 */display: inline-block !important;position: relative;}#sk-container-id-8 div.sk-text-repr-fallback {display: none;}</style><div id=\"sk-container-id-8\" class=\"sk-top-container\"><div class=\"sk-text-repr-fallback\"><pre>SVC()</pre><b>In a Jupyter environment, please rerun this cell to show the HTML representation or trust the notebook. <br />On GitHub, the HTML representation is unable to render, please try loading this page with nbviewer.org.</b></div><div class=\"sk-container\" hidden><div class=\"sk-item\"><div class=\"sk-estimator sk-toggleable\"><input class=\"sk-toggleable__control sk-hidden--visually\" id=\"sk-estimator-id-8\" type=\"checkbox\" checked><label for=\"sk-estimator-id-8\" class=\"sk-toggleable__label sk-toggleable__label-arrow\">SVC</label><div class=\"sk-toggleable__content\"><pre>SVC()</pre></div></div></div></div></div>"
      ],
      "text/plain": [
       "SVC()"
      ]
     },
     "execution_count": 63,
     "metadata": {},
     "output_type": "execute_result"
    }
   ],
   "source": [
    "SVM_noNaN = SVC()\n",
    "SVM_mean = SVC()\n",
    "\n",
    "SVM_noNaN.fit(X_train_noNaN, y_train_noNaN)\n",
    "SVM_mean.fit(X_train_mean, y_train_mean)"
   ]
  },
  {
   "cell_type": "code",
   "execution_count": 64,
   "metadata": {},
   "outputs": [
    {
     "name": "stdout",
     "output_type": "stream",
     "text": [
      "Accuracy of the SVM after removing missing values on the training data: 67.84%\n",
      "Accuracy of the SVM after replacing missing values with the mean value on the training data: 68.86%\n"
     ]
    }
   ],
   "source": [
    "print(f'Accuracy of the SVM after removing missing values on the training data: {SVM_noNaN.score(X_train_noNaN, y_train_noNaN)*100:.2f}%')\n",
    "print(f'Accuracy of the SVM after replacing missing values with the mean value on the training data: {SVM_mean.score(X_train_mean, y_train_mean)*100:.2f}%')"
   ]
  },
  {
   "cell_type": "code",
   "execution_count": 65,
   "metadata": {},
   "outputs": [],
   "source": [
    "SVM_preds_noNaN = SVM_noNaN.predict(X_test_noNaN)\n",
    "SVM_preds_mean = SVM_mean.predict(X_test_mean)"
   ]
  },
  {
   "cell_type": "code",
   "execution_count": 66,
   "metadata": {},
   "outputs": [
    {
     "name": "stdout",
     "output_type": "stream",
     "text": [
      "Using testing data:\n",
      "Classification report for SVM without NaN values:\n",
      "              precision    recall  f1-score   support\n",
      "\n",
      "           0       0.66      0.83      0.74       105\n",
      "           1       0.57      0.35      0.44        68\n",
      "\n",
      "    accuracy                           0.64       173\n",
      "   macro avg       0.62      0.59      0.59       173\n",
      "weighted avg       0.63      0.64      0.62       173\n",
      "\n",
      "Classification report for SVM with mean age values:\n",
      "              precision    recall  f1-score   support\n",
      "\n",
      "           0       0.68      0.85      0.76       141\n",
      "           1       0.55      0.32      0.40        82\n",
      "\n",
      "    accuracy                           0.65       223\n",
      "   macro avg       0.62      0.58      0.58       223\n",
      "weighted avg       0.63      0.65      0.63       223\n",
      "\n",
      "The accuracy of the SVM model after taking out the NaN age values: 64.16%\n",
      "The accuracy of the SVM model using mean replacement for age values: 65.47%\n"
     ]
    }
   ],
   "source": [
    "print('Using testing data:')\n",
    "print('Classification report for SVM without NaN values:')\n",
    "print(classification_report(y_true= y_test_noNaN, y_pred= SVM_preds_noNaN))\n",
    "\n",
    "print('Classification report for SVM with mean age values:')\n",
    "print(classification_report(y_true= y_test_mean, y_pred= SVM_preds_mean))\n",
    "\n",
    "SVM_acc_noNaN = accuracy_score(y_true= y_test_noNaN, y_pred= SVM_preds_noNaN)\n",
    "SVM_acc_mean = accuracy_score(y_true= y_test_mean, y_pred= SVM_preds_mean)\n",
    "\n",
    "print(f'The accuracy of the SVM model after taking out the NaN age values: {SVM_acc_noNaN*100:.2f}%')\n",
    "print(f'The accuracy of the SVM model using mean replacement for age values: {SVM_acc_mean*100:.2f}%')"
   ]
  },
  {
   "cell_type": "markdown",
   "metadata": {},
   "source": [
    "While consistent across the training and testing splits, the accuracy of the model is far lower than the Logistic Regression and Decision Tree classifiers. Therefore, I will likely not use this model for my entry. Additionally, due to the Decision Tree model's vulnerability to overfitting, I will likely utilize logistic regression in my final classifier."
   ]
  },
  {
   "cell_type": "markdown",
   "metadata": {},
   "source": [
    "## Logistic Regression Tuning"
   ]
  },
  {
   "cell_type": "markdown",
   "metadata": {},
   "source": [
    "In order to finalize my model, I would first like to find the optimal hyperparameters for the Logistic Regression classifier. To do this, I will create dictionaries containing a range of possible hyperparameters, and run a cross-validated grid search (using the `GridSearchCV` class from the `scikit-learn` library), to find the optimal set. Once I find the optimal hyperparameters for each Logistic Regression model, I will fit them to the training split, and then analyze their accuracies on both the training and unseen testing split. After confirming its effectiveness on the splits I created from the training data file, I will then train finalize whether I want to replace/remove the missing values from the `Age` category.\n",
    "\n",
    "Note: within the grid search hyperparameter input, I have to make separate dictionaries due to the different solver algorithms. Each solver algorithm only accepts certain types of penalty functions (e.g., the `liblinear` algorithm only works with L1 or L2 penalty functions), so each solver algorithm within the hyperparameter grid is sorted by these penalty functions."
   ]
  },
  {
   "cell_type": "code",
   "execution_count": 72,
   "metadata": {},
   "outputs": [
    {
     "name": "stdout",
     "output_type": "stream",
     "text": [
      "Fitting 5 folds for each of 2800 candidates, totalling 14000 fits\n"
     ]
    },
    {
     "name": "stderr",
     "output_type": "stream",
     "text": [
      "c:\\Users\\oscar\\anaconda3\\envs\\ml-0451\\lib\\site-packages\\joblib\\externals\\loky\\process_executor.py:700: UserWarning: A worker stopped while some jobs were given to the executor. This can be caused by a too short worker timeout or by a memory leak.\n",
      "  warnings.warn(\n",
      "c:\\Users\\oscar\\anaconda3\\envs\\ml-0451\\lib\\site-packages\\sklearn\\linear_model\\_logistic.py:1192: UserWarning: Setting penalty=None will ignore the C and l1_ratio parameters\n",
      "  warnings.warn(\n"
     ]
    },
    {
     "name": "stdout",
     "output_type": "stream",
     "text": [
      "Fitting 5 folds for each of 2800 candidates, totalling 14000 fits\n"
     ]
    },
    {
     "name": "stderr",
     "output_type": "stream",
     "text": [
      "c:\\Users\\oscar\\anaconda3\\envs\\ml-0451\\lib\\site-packages\\sklearn\\linear_model\\_logistic.py:1192: UserWarning: Setting penalty=None will ignore the C and l1_ratio parameters\n",
      "  warnings.warn(\n"
     ]
    }
   ],
   "source": [
    "from sklearn.model_selection import GridSearchCV\n",
    "\n",
    "C_space = np.logspace(start= -100.0, stop= 100.0, num= 100)\n",
    "m_iter = [100, 500, 1000, 2500]\n",
    "\n",
    "poss_params = [\n",
    "  { 'penalty'   : ['l2', None],\n",
    "    'C'         : C_space,\n",
    "    'solver'    : ['newton-cg', 'lbfgs'],\n",
    "    'max_iter'  : m_iter},\n",
    "    { 'penalty'   : ['l1', 'l2', None],\n",
    "    'C'         : C_space,\n",
    "    'solver'    : ['saga'],\n",
    "    'max_iter'  : m_iter}\n",
    "]\n",
    "\n",
    "# this destroys the runtime for some reason\n",
    "'''{ 'penalty'   : ['l1', 'l2'],\n",
    "    'C'         : C_space,\n",
    "    'solver'    : ['liblinear'],\n",
    "    'max_iter'  : m_iter},\n",
    "'''\n",
    "\n",
    "LR = LogisticRegression()\n",
    "tuner = GridSearchCV(LR, poss_params, cv= 5, verbose= True, n_jobs= 2)\n",
    "\n",
    "best_LR_noNaN = tuner.fit(X_train_noNaN, y_train_noNaN)\n",
    "best_LR_mean = tuner.fit(X_train_mean, y_train_mean)\n"
   ]
  },
  {
   "cell_type": "code",
   "execution_count": 73,
   "metadata": {},
   "outputs": [
    {
     "name": "stdout",
     "output_type": "stream",
     "text": [
      "Accuracy of tuned logistic regression after removing missing values on the training data: 79.67%\n",
      "Accuracy of tuned logistic regression after replacing missing values with the mean value on the training data: 79.64%\n"
     ]
    }
   ],
   "source": [
    "print(f'Accuracy of tuned logistic regression after removing missing values on the training data: {best_LR_noNaN.score(X_train_noNaN, y_train_noNaN)*100:.2f}%')\n",
    "print(f'Accuracy of tuned logistic regression after replacing missing values with the mean value on the training data: {best_LR_mean.score(X_train_mean, y_train_mean)*100:.2f}%')"
   ]
  },
  {
   "cell_type": "code",
   "execution_count": 74,
   "metadata": {},
   "outputs": [],
   "source": [
    "best_LR_preds_noNaN = best_LR_noNaN.predict(X_test_noNaN)\n",
    "best_LR_preds_mean = best_LR_mean.predict(X_test_mean)"
   ]
  },
  {
   "cell_type": "code",
   "execution_count": 75,
   "metadata": {},
   "outputs": [
    {
     "data": {
      "text/html": [
       "<style>#sk-container-id-10 {color: black;}#sk-container-id-10 pre{padding: 0;}#sk-container-id-10 div.sk-toggleable {background-color: white;}#sk-container-id-10 label.sk-toggleable__label {cursor: pointer;display: block;width: 100%;margin-bottom: 0;padding: 0.3em;box-sizing: border-box;text-align: center;}#sk-container-id-10 label.sk-toggleable__label-arrow:before {content: \"▸\";float: left;margin-right: 0.25em;color: #696969;}#sk-container-id-10 label.sk-toggleable__label-arrow:hover:before {color: black;}#sk-container-id-10 div.sk-estimator:hover label.sk-toggleable__label-arrow:before {color: black;}#sk-container-id-10 div.sk-toggleable__content {max-height: 0;max-width: 0;overflow: hidden;text-align: left;background-color: #f0f8ff;}#sk-container-id-10 div.sk-toggleable__content pre {margin: 0.2em;color: black;border-radius: 0.25em;background-color: #f0f8ff;}#sk-container-id-10 input.sk-toggleable__control:checked~div.sk-toggleable__content {max-height: 200px;max-width: 100%;overflow: auto;}#sk-container-id-10 input.sk-toggleable__control:checked~label.sk-toggleable__label-arrow:before {content: \"▾\";}#sk-container-id-10 div.sk-estimator input.sk-toggleable__control:checked~label.sk-toggleable__label {background-color: #d4ebff;}#sk-container-id-10 div.sk-label input.sk-toggleable__control:checked~label.sk-toggleable__label {background-color: #d4ebff;}#sk-container-id-10 input.sk-hidden--visually {border: 0;clip: rect(1px 1px 1px 1px);clip: rect(1px, 1px, 1px, 1px);height: 1px;margin: -1px;overflow: hidden;padding: 0;position: absolute;width: 1px;}#sk-container-id-10 div.sk-estimator {font-family: monospace;background-color: #f0f8ff;border: 1px dotted black;border-radius: 0.25em;box-sizing: border-box;margin-bottom: 0.5em;}#sk-container-id-10 div.sk-estimator:hover {background-color: #d4ebff;}#sk-container-id-10 div.sk-parallel-item::after {content: \"\";width: 100%;border-bottom: 1px solid gray;flex-grow: 1;}#sk-container-id-10 div.sk-label:hover label.sk-toggleable__label {background-color: #d4ebff;}#sk-container-id-10 div.sk-serial::before {content: \"\";position: absolute;border-left: 1px solid gray;box-sizing: border-box;top: 0;bottom: 0;left: 50%;z-index: 0;}#sk-container-id-10 div.sk-serial {display: flex;flex-direction: column;align-items: center;background-color: white;padding-right: 0.2em;padding-left: 0.2em;position: relative;}#sk-container-id-10 div.sk-item {position: relative;z-index: 1;}#sk-container-id-10 div.sk-parallel {display: flex;align-items: stretch;justify-content: center;background-color: white;position: relative;}#sk-container-id-10 div.sk-item::before, #sk-container-id-10 div.sk-parallel-item::before {content: \"\";position: absolute;border-left: 1px solid gray;box-sizing: border-box;top: 0;bottom: 0;left: 50%;z-index: -1;}#sk-container-id-10 div.sk-parallel-item {display: flex;flex-direction: column;z-index: 1;position: relative;background-color: white;}#sk-container-id-10 div.sk-parallel-item:first-child::after {align-self: flex-end;width: 50%;}#sk-container-id-10 div.sk-parallel-item:last-child::after {align-self: flex-start;width: 50%;}#sk-container-id-10 div.sk-parallel-item:only-child::after {width: 0;}#sk-container-id-10 div.sk-dashed-wrapped {border: 1px dashed gray;margin: 0 0.4em 0.5em 0.4em;box-sizing: border-box;padding-bottom: 0.4em;background-color: white;}#sk-container-id-10 div.sk-label label {font-family: monospace;font-weight: bold;display: inline-block;line-height: 1.2em;}#sk-container-id-10 div.sk-label-container {text-align: center;}#sk-container-id-10 div.sk-container {/* jupyter's `normalize.less` sets `[hidden] { display: none; }` but bootstrap.min.css set `[hidden] { display: none !important; }` so we also need the `!important` here to be able to override the default hidden behavior on the sphinx rendered scikit-learn.org. See: https://github.com/scikit-learn/scikit-learn/issues/21755 */display: inline-block !important;position: relative;}#sk-container-id-10 div.sk-text-repr-fallback {display: none;}</style><div id=\"sk-container-id-10\" class=\"sk-top-container\"><div class=\"sk-text-repr-fallback\"><pre>LogisticRegression(C=1e-100, penalty=None, solver=&#x27;newton-cg&#x27;)</pre><b>In a Jupyter environment, please rerun this cell to show the HTML representation or trust the notebook. <br />On GitHub, the HTML representation is unable to render, please try loading this page with nbviewer.org.</b></div><div class=\"sk-container\" hidden><div class=\"sk-item\"><div class=\"sk-estimator sk-toggleable\"><input class=\"sk-toggleable__control sk-hidden--visually\" id=\"sk-estimator-id-10\" type=\"checkbox\" checked><label for=\"sk-estimator-id-10\" class=\"sk-toggleable__label sk-toggleable__label-arrow\">LogisticRegression</label><div class=\"sk-toggleable__content\"><pre>LogisticRegression(C=1e-100, penalty=None, solver=&#x27;newton-cg&#x27;)</pre></div></div></div></div></div>"
      ],
      "text/plain": [
       "LogisticRegression(C=1e-100, penalty=None, solver='newton-cg')"
      ]
     },
     "execution_count": 75,
     "metadata": {},
     "output_type": "execute_result"
    }
   ],
   "source": [
    "best_LR_mean.best_estimator_"
   ]
  },
  {
   "cell_type": "code",
   "execution_count": 76,
   "metadata": {},
   "outputs": [
    {
     "name": "stdout",
     "output_type": "stream",
     "text": [
      "Using testing data:\n",
      "Classification report for tuned logistic regression without NaN values:\n",
      "              precision    recall  f1-score   support\n",
      "\n",
      "           0       0.83      0.83      0.83       105\n",
      "           1       0.74      0.74      0.74        68\n",
      "\n",
      "    accuracy                           0.79       173\n",
      "   macro avg       0.78      0.78      0.78       173\n",
      "weighted avg       0.79      0.79      0.79       173\n",
      "\n",
      "Classification report for tuned logistic regression with mean age values:\n",
      "              precision    recall  f1-score   support\n",
      "\n",
      "           0       0.84      0.78      0.81       141\n",
      "           1       0.66      0.74      0.70        82\n",
      "\n",
      "    accuracy                           0.77       223\n",
      "   macro avg       0.75      0.76      0.75       223\n",
      "weighted avg       0.77      0.77      0.77       223\n",
      "\n",
      "The accuracy of the tuned logistic regression model after taking out the NaN age values: 79.19%\n",
      "The accuracy of the tuned logistic regression model using mean replacement for age values: 76.68%\n"
     ]
    }
   ],
   "source": [
    "print('Using testing data:')\n",
    "print('Classification report for tuned logistic regression without NaN values:')\n",
    "print(classification_report(y_true= y_test_noNaN, y_pred= best_LR_preds_noNaN))\n",
    "\n",
    "print('Classification report for tuned logistic regression with mean age values:')\n",
    "print(classification_report(y_true= y_test_mean, y_pred= best_LR_preds_mean))\n",
    "\n",
    "best_LR_acc_noNaN = accuracy_score(y_true= y_test_noNaN, y_pred= best_LR_preds_noNaN)\n",
    "best_LR_acc_mean = accuracy_score(y_true= y_test_mean, y_pred= best_LR_preds_mean)\n",
    "\n",
    "print(f'The accuracy of the tuned logistic regression model after taking out the NaN age values: {best_LR_acc_noNaN*100:.2f}%')\n",
    "print(f'The accuracy of the tuned logistic regression model using mean replacement for age values: {best_LR_acc_mean*100:.2f}%')"
   ]
  },
  {
   "cell_type": "markdown",
   "metadata": {},
   "source": [
    "It seems that the overall accuracy on the training and testing splits does not really change between the untuned and tuned logistic regression, yet both models are still moderately more accurate than the Decision Tree and SVM classifiers. Now, I will quickly train this 'optimally' tuned logistic regression model on the entire training dataset, predict on the testing dataset, then analyze the overall results, and finally turn in my preliminary entry. If I am not satisfied with how my final entry turns out, I will return and reinvestigate possible other ways to improve my model's accuracy."
   ]
  },
  {
   "cell_type": "markdown",
   "metadata": {},
   "source": [
    "# Training and Predicting Preliminary Entry"
   ]
  },
  {
   "cell_type": "markdown",
   "metadata": {},
   "source": [
    "In this section I am training and tuning a logistic regression model upon the entire training dataset, predicting upon the testing dataset, and then submitted my model's survival predictions to the Kaggle leaderboard."
   ]
  },
  {
   "cell_type": "code",
   "execution_count": 78,
   "metadata": {},
   "outputs": [],
   "source": [
    "df_train = pd.read_csv('train.csv')\n",
    "\n",
    "final_X_train_noNaN, final_y_train_noNaN = preprocess_noNaN(df_train.copy())\n",
    "final_X_train_mean, final_y_train_mean = preprocess_mean(df_train.copy())"
   ]
  },
  {
   "cell_type": "code",
   "execution_count": 79,
   "metadata": {},
   "outputs": [
    {
     "name": "stdout",
     "output_type": "stream",
     "text": [
      "Fitting 5 folds for each of 2800 candidates, totalling 14000 fits\n",
      "Fitting 5 folds for each of 2800 candidates, totalling 14000 fits\n"
     ]
    }
   ],
   "source": [
    "final_LR_noNaN = tuner.fit(final_X_train_noNaN, final_y_train_noNaN)\n",
    "final_LR_mean = tuner.fit(final_X_train_mean, final_y_train_mean)"
   ]
  },
  {
   "cell_type": "code",
   "execution_count": 80,
   "metadata": {},
   "outputs": [
    {
     "name": "stdout",
     "output_type": "stream",
     "text": [
      "Accuracy of tuned logistic regression after removing missing values on the entire training dataset: 79.97%\n",
      "Accuracy of tuned logistic regression after replacing missing values with the mean value on the entire training dataset: 80.02%\n"
     ]
    }
   ],
   "source": [
    "print(f'Accuracy of tuned logistic regression after removing missing values on the entire training dataset: {final_LR_noNaN.score(final_X_train_noNaN, final_y_train_noNaN)*100:.2f}%')\n",
    "print(f'Accuracy of tuned logistic regression after replacing missing values with the mean value on the entire training dataset: {final_LR_mean.score(final_X_train_mean, final_y_train_mean)*100:.2f}%')"
   ]
  },
  {
   "cell_type": "markdown",
   "metadata": {},
   "source": [
    "Here we can see that the accuracy for the logistic regression model that replaces the missing values in the `Age` category with the mean `Age` value does marginally well compared to the other approach to handling the missing values. On another note, I have realized that the approach of simply removing data points with missing `Age` values would not be suitable for this task, as the Kaggle leaderboard asks that an entry predicts the survivability of every data point, and therefore, we cannot remove data points, but must make them readable by our model (the `LogisticRegression` model class does not allow for NaN values in a dataset). For these reasons, we will be using the handling approach of replacing missing values with the mean value in their category."
   ]
  },
  {
   "cell_type": "code",
   "execution_count": 106,
   "metadata": {},
   "outputs": [
    {
     "name": "stdout",
     "output_type": "stream",
     "text": [
      "<class 'pandas.core.frame.DataFrame'>\n",
      "RangeIndex: 418 entries, 0 to 417\n",
      "Data columns (total 11 columns):\n",
      " #   Column       Non-Null Count  Dtype  \n",
      "---  ------       --------------  -----  \n",
      " 0   PassengerId  418 non-null    int64  \n",
      " 1   Pclass       418 non-null    int64  \n",
      " 2   Name         418 non-null    object \n",
      " 3   Sex          418 non-null    object \n",
      " 4   Age          332 non-null    float64\n",
      " 5   SibSp        418 non-null    int64  \n",
      " 6   Parch        418 non-null    int64  \n",
      " 7   Ticket       418 non-null    object \n",
      " 8   Fare         417 non-null    float64\n",
      " 9   Cabin        91 non-null     object \n",
      " 10  Embarked     418 non-null    object \n",
      "dtypes: float64(2), int64(4), object(5)\n",
      "memory usage: 36.0+ KB\n"
     ]
    }
   ],
   "source": [
    "df_test = pd.read_csv('test.csv')\n",
    "\n",
    "df_test.info()"
   ]
  },
  {
   "cell_type": "markdown",
   "metadata": {},
   "source": [
    "After loading and getting a summary of our data, we can see that `Age` and `Fare`, both features that we use in our model, have missing values. Our normal preproccessing functions will handle the missing values in `Age`, but we need to fix the 1 missing `Fare` value. Following the methodology we used for `Age`, we will replace the missing value in `Fare` with the mean value for that category."
   ]
  },
  {
   "cell_type": "code",
   "execution_count": 107,
   "metadata": {},
   "outputs": [],
   "source": [
    "df_test['Fare'].fillna(df_test['Fare'].mean(), inplace= True)"
   ]
  },
  {
   "cell_type": "markdown",
   "metadata": {},
   "source": [
    "Now, we will save the `PassengerIds` so that we can format the submission file to the specs of the Kaggle competition, preprocess the testing dataset, and have our model make predictions upon it."
   ]
  },
  {
   "cell_type": "code",
   "execution_count": 108,
   "metadata": {},
   "outputs": [],
   "source": [
    "ids = df_test['PassengerId']\n",
    "\n",
    "final_X_test, nothing = preprocess_mean(df_test)\n",
    "\n",
    "survived = final_LR_mean.predict(final_X_test)"
   ]
  },
  {
   "cell_type": "markdown",
   "metadata": {},
   "source": [
    "Now we will create a dataframe from the list of passenger IDs and survival predictions and then format this dataframe into a .csv file so that we can submit it to the competition."
   ]
  },
  {
   "cell_type": "code",
   "execution_count": 114,
   "metadata": {},
   "outputs": [],
   "source": [
    "initial_submission = pd.DataFrame(data= {'PassengerId': ids, 'Survived': survived})\n",
    "initial_submission.to_csv('initial_submission.csv', index=False)  \n"
   ]
  },
  {
   "cell_type": "markdown",
   "metadata": {},
   "source": [
    "My initial approach resulted in a **75.74%** accuracy rate, not bad!\n",
    "\n",
    "![](titanic_sub_1.png)"
   ]
  },
  {
   "cell_type": "markdown",
   "metadata": {},
   "source": []
  }
 ],
 "metadata": {
  "kernelspec": {
   "display_name": "ml-0451",
   "language": "python",
   "name": "python3"
  },
  "language_info": {
   "codemirror_mode": {
    "name": "ipython",
    "version": 3
   },
   "file_extension": ".py",
   "mimetype": "text/x-python",
   "name": "python",
   "nbconvert_exporter": "python",
   "pygments_lexer": "ipython3",
   "version": "3.9.18"
  }
 },
 "nbformat": 4,
 "nbformat_minor": 2
}
