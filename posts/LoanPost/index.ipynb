{
 "cells": [
  {
   "cell_type": "raw",
   "metadata": {},
   "source": [
    "---\n",
    "title: Whose Costs?\n",
    "author: Oscar Fleet\n",
    "date: '2024-04-01'\n",
    "image: \"evilshark.jpg\"\n",
    "description: \"My Blog Post for Homework 2\"\n",
    "format: html\n",
    "---"
   ]
  },
  {
   "cell_type": "markdown",
   "metadata": {},
   "source": [
    "# Abstract\n",
    "This blog post presents the development and application of a machine learning-based logistic regression model to assess the risk of loan default associated with loan applicants and subsequently determining the optimal threshold for maximizing profit for a bank. The model leverages various applicant features to assign risk scores, enabling precise categorization of applicants into high and low-risk groups. Through further analysis, the optimal threshold for loan approval is identified, balancing the trade-off between minimizing risk and maximizing profitability. By utilizing this threshold, the model  decides to approve or deny loans based on the risk scores of individual applicants. Upon training the model, the trained weights of the model showed that the most influential features for a potential loan applicant were the loan amount and the applicant's income."
   ]
  },
  {
   "cell_type": "markdown",
   "metadata": {},
   "source": [
    "# Part A: Grab the Data"
   ]
  },
  {
   "cell_type": "markdown",
   "metadata": {},
   "source": [
    "Here I import the data and get a quick snapshot of the column names and types of data within it."
   ]
  },
  {
   "cell_type": "code",
   "execution_count": 32,
   "metadata": {},
   "outputs": [],
   "source": [
    "import pandas as pd\n",
    "url = \"https://raw.githubusercontent.com/PhilChodrow/ml-notes/main/data/credit-risk/train.csv\"\n",
    "df_train = pd.read_csv(url)"
   ]
  },
  {
   "cell_type": "code",
   "execution_count": 33,
   "metadata": {},
   "outputs": [
    {
     "data": {
      "text/html": [
       "<div>\n",
       "<style scoped>\n",
       "    .dataframe tbody tr th:only-of-type {\n",
       "        vertical-align: middle;\n",
       "    }\n",
       "\n",
       "    .dataframe tbody tr th {\n",
       "        vertical-align: top;\n",
       "    }\n",
       "\n",
       "    .dataframe thead th {\n",
       "        text-align: right;\n",
       "    }\n",
       "</style>\n",
       "<table border=\"1\" class=\"dataframe\">\n",
       "  <thead>\n",
       "    <tr style=\"text-align: right;\">\n",
       "      <th></th>\n",
       "      <th>person_age</th>\n",
       "      <th>person_income</th>\n",
       "      <th>person_home_ownership</th>\n",
       "      <th>person_emp_length</th>\n",
       "      <th>loan_intent</th>\n",
       "      <th>loan_grade</th>\n",
       "      <th>loan_amnt</th>\n",
       "      <th>loan_int_rate</th>\n",
       "      <th>loan_status</th>\n",
       "      <th>loan_percent_income</th>\n",
       "      <th>cb_person_default_on_file</th>\n",
       "      <th>cb_person_cred_hist_length</th>\n",
       "    </tr>\n",
       "  </thead>\n",
       "  <tbody>\n",
       "    <tr>\n",
       "      <th>0</th>\n",
       "      <td>25</td>\n",
       "      <td>43200</td>\n",
       "      <td>RENT</td>\n",
       "      <td>NaN</td>\n",
       "      <td>VENTURE</td>\n",
       "      <td>B</td>\n",
       "      <td>1200</td>\n",
       "      <td>9.91</td>\n",
       "      <td>0</td>\n",
       "      <td>0.03</td>\n",
       "      <td>N</td>\n",
       "      <td>4</td>\n",
       "    </tr>\n",
       "    <tr>\n",
       "      <th>1</th>\n",
       "      <td>27</td>\n",
       "      <td>98000</td>\n",
       "      <td>RENT</td>\n",
       "      <td>3.0</td>\n",
       "      <td>EDUCATION</td>\n",
       "      <td>C</td>\n",
       "      <td>11750</td>\n",
       "      <td>13.47</td>\n",
       "      <td>0</td>\n",
       "      <td>0.12</td>\n",
       "      <td>Y</td>\n",
       "      <td>6</td>\n",
       "    </tr>\n",
       "    <tr>\n",
       "      <th>2</th>\n",
       "      <td>22</td>\n",
       "      <td>36996</td>\n",
       "      <td>RENT</td>\n",
       "      <td>5.0</td>\n",
       "      <td>EDUCATION</td>\n",
       "      <td>A</td>\n",
       "      <td>10000</td>\n",
       "      <td>7.51</td>\n",
       "      <td>0</td>\n",
       "      <td>0.27</td>\n",
       "      <td>N</td>\n",
       "      <td>4</td>\n",
       "    </tr>\n",
       "    <tr>\n",
       "      <th>3</th>\n",
       "      <td>24</td>\n",
       "      <td>26000</td>\n",
       "      <td>RENT</td>\n",
       "      <td>2.0</td>\n",
       "      <td>MEDICAL</td>\n",
       "      <td>C</td>\n",
       "      <td>1325</td>\n",
       "      <td>12.87</td>\n",
       "      <td>1</td>\n",
       "      <td>0.05</td>\n",
       "      <td>N</td>\n",
       "      <td>4</td>\n",
       "    </tr>\n",
       "    <tr>\n",
       "      <th>4</th>\n",
       "      <td>29</td>\n",
       "      <td>53004</td>\n",
       "      <td>MORTGAGE</td>\n",
       "      <td>2.0</td>\n",
       "      <td>HOMEIMPROVEMENT</td>\n",
       "      <td>A</td>\n",
       "      <td>15000</td>\n",
       "      <td>9.63</td>\n",
       "      <td>0</td>\n",
       "      <td>0.28</td>\n",
       "      <td>N</td>\n",
       "      <td>10</td>\n",
       "    </tr>\n",
       "  </tbody>\n",
       "</table>\n",
       "</div>"
      ],
      "text/plain": [
       "   person_age  person_income person_home_ownership  person_emp_length  \\\n",
       "0          25          43200                  RENT                NaN   \n",
       "1          27          98000                  RENT                3.0   \n",
       "2          22          36996                  RENT                5.0   \n",
       "3          24          26000                  RENT                2.0   \n",
       "4          29          53004              MORTGAGE                2.0   \n",
       "\n",
       "       loan_intent loan_grade  loan_amnt  loan_int_rate  loan_status  \\\n",
       "0          VENTURE          B       1200           9.91            0   \n",
       "1        EDUCATION          C      11750          13.47            0   \n",
       "2        EDUCATION          A      10000           7.51            0   \n",
       "3          MEDICAL          C       1325          12.87            1   \n",
       "4  HOMEIMPROVEMENT          A      15000           9.63            0   \n",
       "\n",
       "   loan_percent_income cb_person_default_on_file  cb_person_cred_hist_length  \n",
       "0                 0.03                         N                           4  \n",
       "1                 0.12                         Y                           6  \n",
       "2                 0.27                         N                           4  \n",
       "3                 0.05                         N                           4  \n",
       "4                 0.28                         N                          10  "
      ]
     },
     "execution_count": 33,
     "metadata": {},
     "output_type": "execute_result"
    }
   ],
   "source": [
    "df_train.head()"
   ]
  },
  {
   "cell_type": "markdown",
   "metadata": {},
   "source": [
    "# Part B: Explore the Data\n",
    "Create at least two visualizations and one summary table in which you explore patterns in the data. You might consider some questions like:\n",
    "\n",
    "* How does loan intent vary with the age, length of employment, or homeownership status of an individual?\n",
    "* Which segments of prospective borrowers are offered low interest rates? Which segments are offered high interest rates?\n",
    "* Which segments of prospective borrowers have access to large lines of credit?"
   ]
  },
  {
   "cell_type": "code",
   "execution_count": 34,
   "metadata": {},
   "outputs": [],
   "source": [
    "import seaborn as sns\n",
    "import matplotlib.pyplot as plt"
   ]
  },
  {
   "cell_type": "markdown",
   "metadata": {},
   "source": [
    "For my first visualization, I created a density plot of the initial loan rate of a loan applicant vs. their income, with color mapping representing whether the person had a past loan default in their history. One trend that is most apparent is the clear divide between loan applicants that have had a past default and those that haven't. Across all income levels, there is a seemingly constant difference regarding initial loan rates between those who have had a past default and those who have not. Those who have had a past loan default on their file tend to have an initial loan rate of 10% or higher, while those who have not tend to have a 10% rate or lower. The rates for those with a past loan default seem to concentrate around 12.5% and 7.5% for those without a past default, regardless of income level."
   ]
  },
  {
   "cell_type": "code",
   "execution_count": 35,
   "metadata": {},
   "outputs": [
    {
     "name": "stderr",
     "output_type": "stream",
     "text": [
      "c:\\Users\\oscar\\anaconda3\\envs\\ml-0451\\lib\\site-packages\\seaborn\\_oldcore.py:1119: FutureWarning: use_inf_as_na option is deprecated and will be removed in a future version. Convert inf values to NaN before operating instead.\n",
      "  with pd.option_context('mode.use_inf_as_na', True):\n",
      "c:\\Users\\oscar\\anaconda3\\envs\\ml-0451\\lib\\site-packages\\seaborn\\_oldcore.py:1119: FutureWarning: use_inf_as_na option is deprecated and will be removed in a future version. Convert inf values to NaN before operating instead.\n",
      "  with pd.option_context('mode.use_inf_as_na', True):\n",
      "c:\\Users\\oscar\\anaconda3\\envs\\ml-0451\\lib\\site-packages\\seaborn\\axisgrid.py:39: UserWarning: Attempt to set non-positive xlim on a log-scaled axis will be ignored.\n",
      "  ax.set(**kwargs)\n"
     ]
    },
    {
     "data": {
      "image/png": "[encoded data removed]",
      "text/plain": [
       "<Figure size 690.736x500 with 1 Axes>"
      ]
     },
     "metadata": {},
     "output_type": "display_data"
    }
   ],
   "source": [
    "plot1 = sns.displot(data= df_train, x= 'person_income', y= 'loan_int_rate', hue= 'cb_person_default_on_file')\n",
    "plt.xscale('log')\n",
    "\n",
    "# This code is not working, it just creates a separate legend that doesn't have labels\n",
    "#plt.legend(title= 'History of Default', labels= [\"No\", \"Yes\"])\n",
    "\n",
    "plot1.set(xlim= (0, 1000000))\n",
    "plot1.set(xlabel= \"Person's Income (Log Scale)\", ylabel= \"Initial Loan Rate\", title= 'Initial Loan Rate vs. Income')\n",
    "plt.show()"
   ]
  },
  {
   "cell_type": "markdown",
   "metadata": {},
   "source": [
    "I then plotted a catplot of a loan applicants income against their home ownership types. Again, there did not seem to be a strong trend, but there was a slightly higher median of income for loan applicants renting their homes as opposed to mortgaging or owning. Perhaps this correlates to a trend in which a person needs a larger income in order to afford to rent certain types of homes (i.e. expensive apartments or condos). Like the weak correlation above, it seems that not much can be extraploated from this visualization that could prove helpful to prediciting loan default rates of a given person."
   ]
  },
  {
   "cell_type": "code",
   "execution_count": 36,
   "metadata": {},
   "outputs": [
    {
     "name": "stderr",
     "output_type": "stream",
     "text": [
      "c:\\Users\\oscar\\anaconda3\\envs\\ml-0451\\lib\\site-packages\\seaborn\\categorical.py:1794: FutureWarning: use_inf_as_na option is deprecated and will be removed in a future version. Convert inf values to NaN before operating instead.\n",
      "  with pd.option_context('mode.use_inf_as_na', True):\n",
      "c:\\Users\\oscar\\anaconda3\\envs\\ml-0451\\lib\\site-packages\\seaborn\\categorical.py:1794: FutureWarning: use_inf_as_na option is deprecated and will be removed in a future version. Convert inf values to NaN before operating instead.\n",
      "  with pd.option_context('mode.use_inf_as_na', True):\n",
      "c:\\Users\\oscar\\anaconda3\\envs\\ml-0451\\lib\\site-packages\\seaborn\\categorical.py:1794: FutureWarning: use_inf_as_na option is deprecated and will be removed in a future version. Convert inf values to NaN before operating instead.\n",
      "  with pd.option_context('mode.use_inf_as_na', True):\n",
      "c:\\Users\\oscar\\anaconda3\\envs\\ml-0451\\lib\\site-packages\\seaborn\\categorical.py:1794: FutureWarning: use_inf_as_na option is deprecated and will be removed in a future version. Convert inf values to NaN before operating instead.\n",
      "  with pd.option_context('mode.use_inf_as_na', True):\n"
     ]
    },
    {
     "data": {
      "text/plain": [
       "<seaborn.axisgrid.FacetGrid at 0x1485aea88e0>"
      ]
     },
     "execution_count": 36,
     "metadata": {},
     "output_type": "execute_result"
    },
    {
     "data": {
      "image/png": "[encoded data removed]",
      "text/plain": [
       "<Figure size 500x500 with 1 Axes>"
      ]
     },
     "metadata": {},
     "output_type": "display_data"
    }
   ],
   "source": [
    "plot2 = sns.catplot(data= df_train, x= 'person_home_ownership', y= 'loan_int_rate', kind= \"boxen\")\n",
    "plot2.set(xlabel= \"Home Ownership Type\", ylabel= \"Initial Loan Rate\", title= 'Income Across Home Ownership Types')\n",
    "plot2"
   ]
  },
  {
   "cell_type": "markdown",
   "metadata": {},
   "source": [
    "For the third visualization, I created a catplot that mapped one's initial loan rate against whether or not they have had a past loan default. Here, I found a strong trend of higher initial loan rates for those who have previously defaulted on a loan. This correlation is intuitive, as most banks would want to protect their interests from possible future defaults through higher loan rates, and people who have defaulted on loans in the past are often thought to be more likely to default in the future, than those who have never defaulted on a loan."
   ]
  },
  {
   "cell_type": "code",
   "execution_count": 37,
   "metadata": {},
   "outputs": [
    {
     "name": "stderr",
     "output_type": "stream",
     "text": [
      "c:\\Users\\oscar\\anaconda3\\envs\\ml-0451\\lib\\site-packages\\seaborn\\categorical.py:1794: FutureWarning: use_inf_as_na option is deprecated and will be removed in a future version. Convert inf values to NaN before operating instead.\n",
      "  with pd.option_context('mode.use_inf_as_na', True):\n",
      "c:\\Users\\oscar\\anaconda3\\envs\\ml-0451\\lib\\site-packages\\seaborn\\categorical.py:1794: FutureWarning: use_inf_as_na option is deprecated and will be removed in a future version. Convert inf values to NaN before operating instead.\n",
      "  with pd.option_context('mode.use_inf_as_na', True):\n"
     ]
    },
    {
     "data": {
      "text/plain": [
       "<seaborn.axisgrid.FacetGrid at 0x14859adf550>"
      ]
     },
     "execution_count": 37,
     "metadata": {},
     "output_type": "execute_result"
    },
    {
     "data": {
      "image/png": "[encoded data removed]",
      "text/plain": [
       "<Figure size 500x500 with 1 Axes>"
      ]
     },
     "metadata": {},
     "output_type": "display_data"
    }
   ],
   "source": [
    "temp = df_train.copy()\n",
    "temp['cb_person_default_on_file'] = temp['cb_person_default_on_file'].str.replace('Y', 'Past Default')\n",
    "temp['cb_person_default_on_file'] = temp['cb_person_default_on_file'].str.replace('N', 'No Default')\n",
    "\n",
    "\n",
    "plot3 = sns.catplot(data= temp, x= 'cb_person_default_on_file', y= 'loan_int_rate', kind= 'boxen')\n",
    "plot3.set(xlabel= \"History of Loan Default\", ylabel= \"Initial Loan Rate\", title= 'Initial Loan Rate vs. Loan Default History')\n",
    "plot3"
   ]
  },
  {
   "cell_type": "markdown",
   "metadata": {},
   "source": [
    "I then had the idea to separate all of the loan applicants by age group, as perhaps there were trends that existed between them. I chose the categories of <30, 30-50, 50-70, 70-90, and 90+. I then compared the number of loan applications from each group, and found that the dataset is mostly comprised of loan applications from people younger than 30, at that there are little to no applications from people older than 50 in the data set."
   ]
  },
  {
   "cell_type": "code",
   "execution_count": 38,
   "metadata": {},
   "outputs": [],
   "source": [
    "bins= [0, 30, 50, 70, 90, 150]\n",
    "labels= [\"<30\", \"30-50\", \"50-70\", \"70-90\", \"90+\"]\n",
    "df_train['person_age_group'] = pd.cut(df_train[\"person_age\"], bins=bins, labels=labels, right=False)"
   ]
  },
  {
   "cell_type": "code",
   "execution_count": 39,
   "metadata": {},
   "outputs": [
    {
     "name": "stderr",
     "output_type": "stream",
     "text": [
      "c:\\Users\\oscar\\anaconda3\\envs\\ml-0451\\lib\\site-packages\\seaborn\\categorical.py:641: FutureWarning: The default of observed=False is deprecated and will be changed to True in a future version of pandas. Pass observed=False to retain current behavior or observed=True to adopt the future default and silence this warning.\n",
      "  grouped_vals = vals.groupby(grouper)\n",
      "c:\\Users\\oscar\\anaconda3\\envs\\ml-0451\\lib\\site-packages\\seaborn\\categorical.py:641: FutureWarning: The default of observed=False is deprecated and will be changed to True in a future version of pandas. Pass observed=False to retain current behavior or observed=True to adopt the future default and silence this warning.\n",
      "  grouped_vals = vals.groupby(grouper)\n"
     ]
    },
    {
     "data": {
      "text/plain": [
       "<seaborn.axisgrid.FacetGrid at 0x14854972880>"
      ]
     },
     "execution_count": 39,
     "metadata": {},
     "output_type": "execute_result"
    },
    {
     "data": {
      "image/png": "[encoded data removed]",
      "text/plain": [
       "<Figure size 500x500 with 1 Axes>"
      ]
     },
     "metadata": {},
     "output_type": "display_data"
    }
   ],
   "source": [
    "plot3 = sns.catplot(df_train, x= \"person_age_group\", y= None, kind= 'count')\n",
    "plot3.set(xlabel= 'Age Group', ylabel= 'Count', title= \"Number of Loans by Age Group\")\n",
    "plot3"
   ]
  },
  {
   "cell_type": "markdown",
   "metadata": {},
   "source": [
    "I then wanted to see the distribution of loan intents across age groups, so I created the following summary table. Within the <30 group, the most common intent was education, the least common was home improvement, and the rest were mostly comparable. This is intuitive as most young people are focused on going to college or graduate school and take out loans to do so; they also often do not have houses to make improvements upon during this time in their lives. The 30-50 group generally had an even distribution of loan intents. The 50-70 group saw a large amount of loan applications with the intent of 'personal'. Perhaps this is due to most of these people being retired, yet living outside of their means, and are thus relying on the money of bank loans to pay for some of their lifestyles instead of their old incomes."
   ]
  },
  {
   "cell_type": "code",
   "execution_count": 40,
   "metadata": {},
   "outputs": [
    {
     "name": "stderr",
     "output_type": "stream",
     "text": [
      "C:\\Users\\oscar\\AppData\\Local\\Temp\\ipykernel_44992\\2851417689.py:1: FutureWarning: The default of observed=False is deprecated and will be changed to True in a future version of pandas. Pass observed=False to retain current behavior or observed=True to adopt the future default and silence this warning.\n",
      "  sum_table = df_train.groupby([\"person_age_group\", 'loan_intent']).size()\n"
     ]
    },
    {
     "data": {
      "text/plain": [
       "person_age_group  loan_intent      \n",
       "<30               DEBTCONSOLIDATION    3028\n",
       "                  EDUCATION            4001\n",
       "                  HOMEIMPROVEMENT      1881\n",
       "                  MEDICAL              3429\n",
       "                  PERSONAL             3129\n",
       "                  VENTURE              3340\n",
       "30-50             DEBTCONSOLIDATION    1114\n",
       "                  EDUCATION            1106\n",
       "                  HOMEIMPROVEMENT      1001\n",
       "                  MEDICAL              1363\n",
       "                  PERSONAL             1156\n",
       "                  VENTURE              1239\n",
       "50-70             DEBTCONSOLIDATION      35\n",
       "                  EDUCATION              18\n",
       "                  HOMEIMPROVEMENT        20\n",
       "                  MEDICAL                35\n",
       "                  PERSONAL              118\n",
       "                  VENTURE                34\n",
       "70-90             DEBTCONSOLIDATION       1\n",
       "                  EDUCATION               0\n",
       "                  HOMEIMPROVEMENT         0\n",
       "                  MEDICAL                 7\n",
       "                  PERSONAL                4\n",
       "                  VENTURE                 0\n",
       "90+               DEBTCONSOLIDATION       0\n",
       "                  EDUCATION               2\n",
       "                  HOMEIMPROVEMENT         0\n",
       "                  MEDICAL                 1\n",
       "                  PERSONAL                1\n",
       "                  VENTURE                 1\n",
       "dtype: int64"
      ]
     },
     "execution_count": 40,
     "metadata": {},
     "output_type": "execute_result"
    }
   ],
   "source": [
    "sum_table = df_train.groupby([\"person_age_group\", 'loan_intent']).size()\n",
    "sum_table"
   ]
  },
  {
   "cell_type": "markdown",
   "metadata": {},
   "source": [
    "# Part C: Build a Model\n",
    "\n",
    "Please use any technique to construct a score function and threshold for predicting whether a prospective borrower is likely to default on a given loan. You may use all the features in the data except *loan_grade* (and the target variable *loan_status*), and you may choose any subset of these. There are several valid ways to approach this modeling task:\n",
    "\n",
    "* Choose features and estimate entries of a weight vector **w**\n",
    " by hand (this is allowed but not recommended).\n",
    "* (Recommended): Choose your features, estimate new ones if needed, and fit a score-based machine learning model to the data. My suggestion is *LogisticRegression*. Once you have fit a logistic regression model, the weight vector **w**\n",
    " is stored as the attribute *model.coef_*.\n",
    " \n",
    "I suggest that you try several combinations of features, possibly including some which you create, and test out which combinations work best with cross-validation."
   ]
  },
  {
   "cell_type": "code",
   "execution_count": 41,
   "metadata": {},
   "outputs": [],
   "source": [
    "from sklearn.linear_model import LogisticRegression\n",
    "from sklearn.svm import SVC # support vector classifier\n",
    "from mlxtend.plotting import plot_decision_regions # for visualization later\n",
    "from sklearn.model_selection import cross_val_score\n",
    "import numpy as np"
   ]
  },
  {
   "cell_type": "markdown",
   "metadata": {},
   "source": [
    "Here I am removing the loan_grade and loan_status features from the dataset, saving loan_status as the target variable for later use. Additionally, I created 'dummy' variables for all of the qualitative features (e.g., person_home_mortgage, loan_intent, etc.), so that it can be processed by my logistic regression model."
   ]
  },
  {
   "cell_type": "code",
   "execution_count": 42,
   "metadata": {},
   "outputs": [],
   "source": [
    "# HERE one-hot encode all of the qual variables\n",
    "\n",
    "def prepare_data(df):\n",
    "  df = df.dropna()\n",
    "  y = df[\"loan_status\"]\n",
    "  df = df.drop([\"loan_status\", \"loan_grade\"], axis = 1)\n",
    "  df = pd.get_dummies(df)\n",
    "  return df, y\n",
    "\n",
    "X_train, y_train = prepare_data(df_train)"
   ]
  },
  {
   "cell_type": "code",
   "execution_count": 43,
   "metadata": {},
   "outputs": [
    {
     "data": {
      "text/html": [
       "<style>#sk-container-id-2 {color: black;}#sk-container-id-2 pre{padding: 0;}#sk-container-id-2 div.sk-toggleable {background-color: white;}#sk-container-id-2 label.sk-toggleable__label {cursor: pointer;display: block;width: 100%;margin-bottom: 0;padding: 0.3em;box-sizing: border-box;text-align: center;}#sk-container-id-2 label.sk-toggleable__label-arrow:before {content: \"▸\";float: left;margin-right: 0.25em;color: #696969;}#sk-container-id-2 label.sk-toggleable__label-arrow:hover:before {color: black;}#sk-container-id-2 div.sk-estimator:hover label.sk-toggleable__label-arrow:before {color: black;}#sk-container-id-2 div.sk-toggleable__content {max-height: 0;max-width: 0;overflow: hidden;text-align: left;background-color: #f0f8ff;}#sk-container-id-2 div.sk-toggleable__content pre {margin: 0.2em;color: black;border-radius: 0.25em;background-color: #f0f8ff;}#sk-container-id-2 input.sk-toggleable__control:checked~div.sk-toggleable__content {max-height: 200px;max-width: 100%;overflow: auto;}#sk-container-id-2 input.sk-toggleable__control:checked~label.sk-toggleable__label-arrow:before {content: \"▾\";}#sk-container-id-2 div.sk-estimator input.sk-toggleable__control:checked~label.sk-toggleable__label {background-color: #d4ebff;}#sk-container-id-2 div.sk-label input.sk-toggleable__control:checked~label.sk-toggleable__label {background-color: #d4ebff;}#sk-container-id-2 input.sk-hidden--visually {border: 0;clip: rect(1px 1px 1px 1px);clip: rect(1px, 1px, 1px, 1px);height: 1px;margin: -1px;overflow: hidden;padding: 0;position: absolute;width: 1px;}#sk-container-id-2 div.sk-estimator {font-family: monospace;background-color: #f0f8ff;border: 1px dotted black;border-radius: 0.25em;box-sizing: border-box;margin-bottom: 0.5em;}#sk-container-id-2 div.sk-estimator:hover {background-color: #d4ebff;}#sk-container-id-2 div.sk-parallel-item::after {content: \"\";width: 100%;border-bottom: 1px solid gray;flex-grow: 1;}#sk-container-id-2 div.sk-label:hover label.sk-toggleable__label {background-color: #d4ebff;}#sk-container-id-2 div.sk-serial::before {content: \"\";position: absolute;border-left: 1px solid gray;box-sizing: border-box;top: 0;bottom: 0;left: 50%;z-index: 0;}#sk-container-id-2 div.sk-serial {display: flex;flex-direction: column;align-items: center;background-color: white;padding-right: 0.2em;padding-left: 0.2em;position: relative;}#sk-container-id-2 div.sk-item {position: relative;z-index: 1;}#sk-container-id-2 div.sk-parallel {display: flex;align-items: stretch;justify-content: center;background-color: white;position: relative;}#sk-container-id-2 div.sk-item::before, #sk-container-id-2 div.sk-parallel-item::before {content: \"\";position: absolute;border-left: 1px solid gray;box-sizing: border-box;top: 0;bottom: 0;left: 50%;z-index: -1;}#sk-container-id-2 div.sk-parallel-item {display: flex;flex-direction: column;z-index: 1;position: relative;background-color: white;}#sk-container-id-2 div.sk-parallel-item:first-child::after {align-self: flex-end;width: 50%;}#sk-container-id-2 div.sk-parallel-item:last-child::after {align-self: flex-start;width: 50%;}#sk-container-id-2 div.sk-parallel-item:only-child::after {width: 0;}#sk-container-id-2 div.sk-dashed-wrapped {border: 1px dashed gray;margin: 0 0.4em 0.5em 0.4em;box-sizing: border-box;padding-bottom: 0.4em;background-color: white;}#sk-container-id-2 div.sk-label label {font-family: monospace;font-weight: bold;display: inline-block;line-height: 1.2em;}#sk-container-id-2 div.sk-label-container {text-align: center;}#sk-container-id-2 div.sk-container {/* jupyter's `normalize.less` sets `[hidden] { display: none; }` but bootstrap.min.css set `[hidden] { display: none !important; }` so we also need the `!important` here to be able to override the default hidden behavior on the sphinx rendered scikit-learn.org. See: https://github.com/scikit-learn/scikit-learn/issues/21755 */display: inline-block !important;position: relative;}#sk-container-id-2 div.sk-text-repr-fallback {display: none;}</style><div id=\"sk-container-id-2\" class=\"sk-top-container\"><div class=\"sk-text-repr-fallback\"><pre>LogisticRegression(max_iter=10000)</pre><b>In a Jupyter environment, please rerun this cell to show the HTML representation or trust the notebook. <br />On GitHub, the HTML representation is unable to render, please try loading this page with nbviewer.org.</b></div><div class=\"sk-container\" hidden><div class=\"sk-item\"><div class=\"sk-estimator sk-toggleable\"><input class=\"sk-toggleable__control sk-hidden--visually\" id=\"sk-estimator-id-2\" type=\"checkbox\" checked><label for=\"sk-estimator-id-2\" class=\"sk-toggleable__label sk-toggleable__label-arrow\">LogisticRegression</label><div class=\"sk-toggleable__content\"><pre>LogisticRegression(max_iter=10000)</pre></div></div></div></div></div>"
      ],
      "text/plain": [
       "LogisticRegression(max_iter=10000)"
      ]
     },
     "execution_count": 43,
     "metadata": {},
     "output_type": "execute_result"
    }
   ],
   "source": [
    "# feature names\n",
    "features = X_train.columns\n",
    "LR = LogisticRegression(max_iter= 10000)\n",
    "LR.fit(X_train[features], y_train)"
   ]
  },
  {
   "cell_type": "markdown",
   "metadata": {},
   "source": [
    "Here I show the optimal weights for all of the features that the model was trained on. It seems that the most important factors were the loan amount and the applicant's income."
   ]
  },
  {
   "cell_type": "code",
   "execution_count": 44,
   "metadata": {},
   "outputs": [
    {
     "data": {
      "text/html": [
       "<div>\n",
       "<style scoped>\n",
       "    .dataframe tbody tr th:only-of-type {\n",
       "        vertical-align: middle;\n",
       "    }\n",
       "\n",
       "    .dataframe tbody tr th {\n",
       "        vertical-align: top;\n",
       "    }\n",
       "\n",
       "    .dataframe thead th {\n",
       "        text-align: right;\n",
       "    }\n",
       "</style>\n",
       "<table border=\"1\" class=\"dataframe\">\n",
       "  <thead>\n",
       "    <tr style=\"text-align: right;\">\n",
       "      <th></th>\n",
       "      <th>Feature</th>\n",
       "      <th>Weight</th>\n",
       "    </tr>\n",
       "  </thead>\n",
       "  <tbody>\n",
       "    <tr>\n",
       "      <th>3</th>\n",
       "      <td>loan_amnt</td>\n",
       "      <td>1.065581e-04</td>\n",
       "    </tr>\n",
       "    <tr>\n",
       "      <th>4</th>\n",
       "      <td>loan_int_rate</td>\n",
       "      <td>9.498579e-08</td>\n",
       "    </tr>\n",
       "    <tr>\n",
       "      <th>10</th>\n",
       "      <td>person_home_ownership_RENT</td>\n",
       "      <td>8.072591e-09</td>\n",
       "    </tr>\n",
       "    <tr>\n",
       "      <th>18</th>\n",
       "      <td>cb_person_default_on_file_Y</td>\n",
       "      <td>7.272047e-09</td>\n",
       "    </tr>\n",
       "    <tr>\n",
       "      <th>11</th>\n",
       "      <td>loan_intent_DEBTCONSOLIDATION</td>\n",
       "      <td>2.680009e-09</td>\n",
       "    </tr>\n",
       "    <tr>\n",
       "      <th>5</th>\n",
       "      <td>loan_percent_income</td>\n",
       "      <td>2.549965e-09</td>\n",
       "    </tr>\n",
       "    <tr>\n",
       "      <th>13</th>\n",
       "      <td>loan_intent_HOMEIMPROVEMENT</td>\n",
       "      <td>1.839150e-09</td>\n",
       "    </tr>\n",
       "    <tr>\n",
       "      <th>14</th>\n",
       "      <td>loan_intent_MEDICAL</td>\n",
       "      <td>1.332706e-09</td>\n",
       "    </tr>\n",
       "    <tr>\n",
       "      <th>21</th>\n",
       "      <td>person_age_group_50-70</td>\n",
       "      <td>1.216076e-10</td>\n",
       "    </tr>\n",
       "    <tr>\n",
       "      <th>8</th>\n",
       "      <td>person_home_ownership_OTHER</td>\n",
       "      <td>5.824537e-11</td>\n",
       "    </tr>\n",
       "    <tr>\n",
       "      <th>23</th>\n",
       "      <td>person_age_group_90+</td>\n",
       "      <td>-2.296252e-12</td>\n",
       "    </tr>\n",
       "    <tr>\n",
       "      <th>22</th>\n",
       "      <td>person_age_group_70-90</td>\n",
       "      <td>-1.399148e-11</td>\n",
       "    </tr>\n",
       "    <tr>\n",
       "      <th>20</th>\n",
       "      <td>person_age_group_30-50</td>\n",
       "      <td>-8.286292e-10</td>\n",
       "    </tr>\n",
       "    <tr>\n",
       "      <th>15</th>\n",
       "      <td>loan_intent_PERSONAL</td>\n",
       "      <td>-1.414263e-09</td>\n",
       "    </tr>\n",
       "    <tr>\n",
       "      <th>19</th>\n",
       "      <td>person_age_group_&lt;30</td>\n",
       "      <td>-1.656899e-09</td>\n",
       "    </tr>\n",
       "    <tr>\n",
       "      <th>12</th>\n",
       "      <td>loan_intent_EDUCATION</td>\n",
       "      <td>-3.018828e-09</td>\n",
       "    </tr>\n",
       "    <tr>\n",
       "      <th>16</th>\n",
       "      <td>loan_intent_VENTURE</td>\n",
       "      <td>-3.798981e-09</td>\n",
       "    </tr>\n",
       "    <tr>\n",
       "      <th>9</th>\n",
       "      <td>person_home_ownership_OWN</td>\n",
       "      <td>-3.939349e-09</td>\n",
       "    </tr>\n",
       "    <tr>\n",
       "      <th>7</th>\n",
       "      <td>person_home_ownership_MORTGAGE</td>\n",
       "      <td>-6.571695e-09</td>\n",
       "    </tr>\n",
       "    <tr>\n",
       "      <th>17</th>\n",
       "      <td>cb_person_default_on_file_N</td>\n",
       "      <td>-9.652256e-09</td>\n",
       "    </tr>\n",
       "    <tr>\n",
       "      <th>6</th>\n",
       "      <td>cb_person_cred_hist_length</td>\n",
       "      <td>-1.225154e-08</td>\n",
       "    </tr>\n",
       "    <tr>\n",
       "      <th>2</th>\n",
       "      <td>person_emp_length</td>\n",
       "      <td>-2.492166e-08</td>\n",
       "    </tr>\n",
       "    <tr>\n",
       "      <th>0</th>\n",
       "      <td>person_age</td>\n",
       "      <td>-6.362318e-08</td>\n",
       "    </tr>\n",
       "    <tr>\n",
       "      <th>1</th>\n",
       "      <td>person_income</td>\n",
       "      <td>-4.057367e-05</td>\n",
       "    </tr>\n",
       "  </tbody>\n",
       "</table>\n",
       "</div>"
      ],
      "text/plain": [
       "                           Feature        Weight\n",
       "3                        loan_amnt  1.065581e-04\n",
       "4                    loan_int_rate  9.498579e-08\n",
       "10      person_home_ownership_RENT  8.072591e-09\n",
       "18     cb_person_default_on_file_Y  7.272047e-09\n",
       "11   loan_intent_DEBTCONSOLIDATION  2.680009e-09\n",
       "5              loan_percent_income  2.549965e-09\n",
       "13     loan_intent_HOMEIMPROVEMENT  1.839150e-09\n",
       "14             loan_intent_MEDICAL  1.332706e-09\n",
       "21          person_age_group_50-70  1.216076e-10\n",
       "8      person_home_ownership_OTHER  5.824537e-11\n",
       "23            person_age_group_90+ -2.296252e-12\n",
       "22          person_age_group_70-90 -1.399148e-11\n",
       "20          person_age_group_30-50 -8.286292e-10\n",
       "15            loan_intent_PERSONAL -1.414263e-09\n",
       "19            person_age_group_<30 -1.656899e-09\n",
       "12           loan_intent_EDUCATION -3.018828e-09\n",
       "16             loan_intent_VENTURE -3.798981e-09\n",
       "9        person_home_ownership_OWN -3.939349e-09\n",
       "7   person_home_ownership_MORTGAGE -6.571695e-09\n",
       "17     cb_person_default_on_file_N -9.652256e-09\n",
       "6       cb_person_cred_hist_length -1.225154e-08\n",
       "2                person_emp_length -2.492166e-08\n",
       "0                       person_age -6.362318e-08\n",
       "1                    person_income -4.057367e-05"
      ]
     },
     "execution_count": 44,
     "metadata": {},
     "output_type": "execute_result"
    }
   ],
   "source": [
    "coefficients = LR.coef_\n",
    "\n",
    "weights_table = pd.DataFrame({'Feature': features, 'Weight': coefficients[0]})\n",
    "weights_table.sort_values('Weight', ascending= False)"
   ]
  },
  {
   "cell_type": "code",
   "execution_count": 45,
   "metadata": {},
   "outputs": [
    {
     "data": {
      "text/plain": [
       "0.8080062862880342"
      ]
     },
     "execution_count": 45,
     "metadata": {},
     "output_type": "execute_result"
    }
   ],
   "source": [
    "LR.score(X_train[features], y_train)"
   ]
  },
  {
   "cell_type": "markdown",
   "metadata": {},
   "source": [
    "# Part D: Find a Threshold"
   ]
  },
  {
   "cell_type": "markdown",
   "metadata": {},
   "source": [
    "Given assumptions for our model:\n",
    "1. If the loan is repaid in full, the profit for the bank is:\n",
    "    \n",
    "    $\\text{loan\\_amt}\\times(1+0.25\\times\\text{loan\\_int\\_rate})^{10} - \\text{loan\\_amt}$\n",
    "2. If the borrower defaults on the loan, the \"profit\" is:\n",
    "\n",
    "    $\\text{loan\\_amt}\\times(1+0.25\\times\\text{loan\\_int\\_rate})^{3}-(1.7\\times\\text{loan\\_amt})$"
   ]
  },
  {
   "cell_type": "markdown",
   "metadata": {},
   "source": [
    "After training my model, I had it predict the probabilities of each data point belonging to class 0 or class 1, i.e., the receiver of the bank loan either repaying or defaulting on their loan. I then created the 'profit_likeli' feature within the training set, which represents the probability of the loanee fully repaying the bank loan, thereby making the bank a profit. Instead of creating a \"risk\" score to quantify how likely the loanee is to default, I chose this metric, as the prospective loss due to a loan default is expressed as an impact on the profit in the given assumptions of the model."
   ]
  },
  {
   "cell_type": "code",
   "execution_count": 46,
   "metadata": {},
   "outputs": [],
   "source": [
    "from sklearn.metrics import confusion_matrix\n",
    "\n",
    "train_preds = LR.predict_proba(X_train[features])\n",
    "X_train[\"profit_likeli\"] = train_preds[:, 0]\n"
   ]
  },
  {
   "cell_type": "markdown",
   "metadata": {},
   "source": [
    "I followed the equations above to create new columns in the dataset that define the cost or profit a bank can expect if the borrower defaults or repays their loan."
   ]
  },
  {
   "cell_type": "code",
   "execution_count": 47,
   "metadata": {},
   "outputs": [],
   "source": [
    "X_train['profit'] = X_train[\"loan_amnt\"]*(1+0.25*(X_train['loan_int_rate']/100))**10 - X_train['loan_amnt']\n",
    "X_train['cost'] = X_train['loan_amnt']*(1+0.25*(X_train['loan_int_rate']/100))**3 - (1.7*X_train['loan_amnt'])"
   ]
  },
  {
   "cell_type": "markdown",
   "metadata": {},
   "source": [
    "After computing the profit likelihoods, the projected profit, and the projected cost of each loan applicant, I was then able to search for the optimal threshold by defining a function that would calculate the expected total profit of the bank if it made loan approval decisions on my profit likelihood feature using a given threshold. This function works by using the threshold to either approve or deny the loan application (0 if approve, 1 if deny, as this will match up with our y_train labels). This approval is calculated by testing whether the profit_likeli is greater than the given threshold. Then, if the approved loans are correct (match up with the actual y_train label), the expected profit will be added to the total; if the approved loans are incorrect (contradict the actual y_train labels), the expected cost will instead be added to the total."
   ]
  },
  {
   "cell_type": "code",
   "execution_count": 48,
   "metadata": {},
   "outputs": [],
   "source": [
    "def calculate_profit(threshold, df, y):\n",
    "    df['expect_default'] = np.where(df['profit_likeli'] > threshold, 0, 1)\n",
    "    df['correct'] = np.where(df['expect_default'] == y, 1, 0)\n",
    "\n",
    "    approved = df[df['expect_default'] == 0]\n",
    "\n",
    "    return np.where(approved['correct'] == 1, approved['profit'], approved['cost']).sum()"
   ]
  },
  {
   "cell_type": "markdown",
   "metadata": {},
   "source": [
    "Below, I graphed the expected profits of my model over 1000 different thresholds between 0 and 1. It appears that the optimal thresholds is somewhere close to 0.6."
   ]
  },
  {
   "cell_type": "code",
   "execution_count": 49,
   "metadata": {},
   "outputs": [
    {
     "data": {
      "image/png": "[encoded data removed]",
      "text/plain": [
       "<Figure size 640x480 with 1 Axes>"
      ]
     },
     "metadata": {},
     "output_type": "display_data"
    }
   ],
   "source": [
    "thresholds = np.linspace(0, 1, 1000)\n",
    "expected_profits = [calculate_profit(threshold, X_train, y_train) for threshold in thresholds]\n",
    "\n",
    "plt.plot(thresholds, expected_profits)\n",
    "plt.title(\"Threshold Values vs. Profit\")\n",
    "plt.xlabel(\"Threshold\")\n",
    "plt.ylabel(\"Profit (in tens of millions)\")\n",
    "plt.grid(True)\n",
    "plt.show()"
   ]
  },
  {
   "cell_type": "markdown",
   "metadata": {},
   "source": [
    "I then used the 'optimize' object from the scipy Python library to find the exact value of the optimal threshold, and the resulting maximimum profit."
   ]
  },
  {
   "cell_type": "code",
   "execution_count": 50,
   "metadata": {},
   "outputs": [
    {
     "name": "stdout",
     "output_type": "stream",
     "text": [
      "The optimum threshold is: 0.6047470824523239\n",
      "The optimal profit, using the threshold, is: 30850532.36\n"
     ]
    }
   ],
   "source": [
    "from scipy import optimize\n",
    "\n",
    "maximize_func = lambda x: -calculate_profit(x, X_train, y_train)\n",
    "\n",
    "maximization = optimize.minimize_scalar(maximize_func, bounds= (0, 1))\n",
    "print(\"The optimum threshold is: \" + str(maximization.x))\n",
    "print(\"The optimal profit, using the threshold, is: \" + str(round(-maximize_func(maximization.x), 2)))"
   ]
  },
  {
   "cell_type": "markdown",
   "metadata": {},
   "source": [
    "Since there were 22,907 data points that I trained my model on, and the profit expected using my optimal threshold was 30,850,532.36, my estimate of the bank's expected profit per borrower on the training set is 1346.77 dollars in profit per borrower."
   ]
  },
  {
   "cell_type": "markdown",
   "metadata": {},
   "source": [
    "# Part E: Evaluate  Model From the Bank's Perspective"
   ]
  },
  {
   "cell_type": "markdown",
   "metadata": {},
   "source": [
    "Now I will test my finalized weight vector and optimal threshold against the test set."
   ]
  },
  {
   "cell_type": "code",
   "execution_count": 51,
   "metadata": {},
   "outputs": [],
   "source": [
    "url = \"https://raw.githubusercontent.com/PhilChodrow/ml-notes/main/data/credit-risk/test.csv\"\n",
    "df_test = pd.read_csv(url)"
   ]
  },
  {
   "cell_type": "markdown",
   "metadata": {},
   "source": [
    "I performed the same data pre-processing steps on the testing data as I did to the training data, and then calculated the expected profit of the bank on the testing data using my trained model and optimal threshold."
   ]
  },
  {
   "cell_type": "code",
   "execution_count": 52,
   "metadata": {},
   "outputs": [
    {
     "name": "stdout",
     "output_type": "stream",
     "text": [
      "The expected profit per borrower on the test set is: 1273.62\n"
     ]
    }
   ],
   "source": [
    "bins= [0, 30, 50, 70, 90, 150]\n",
    "labels= [\"<30\", \"30-50\", \"50-70\", \"70-90\", \"90+\"]\n",
    "df_test['person_age_group'] = pd.cut(df_test[\"person_age\"], bins=bins, labels=labels, right=False)\n",
    "\n",
    "X_test, y_test = prepare_data(df_test)\n",
    "\n",
    "test_preds = LR.predict_proba(X_test[features])\n",
    "X_test[\"profit_likeli\"] = test_preds[:, 0]\n",
    "\n",
    "X_test['profit'] = X_test[\"loan_amnt\"]*(1+0.25*(X_test['loan_int_rate']/100))**10 - X_test['loan_amnt']\n",
    "X_test['cost'] = X_test['loan_amnt']*(1+0.25*(X_test['loan_int_rate']/100))**3 - (1.7*X_test['loan_amnt'])\n",
    "\n",
    "expected = calculate_profit(maximization.x, X_test, y_test)\n",
    "\n",
    "print(\"The expected profit per borrower on the test set is: \" + str(round(expected / X_test.shape[0], 2)))"
   ]
  },
  {
   "cell_type": "markdown",
   "metadata": {},
   "source": [
    "# Part F: Evaluate Model From the Borrower's Perspective"
   ]
  },
  {
   "cell_type": "markdown",
   "metadata": {},
   "source": [
    "Question 1: Is it more difficult for people in certain age groups to access credit under my proposed system?\n",
    "\n",
    "Fortunately, in my earlier data preprocessing, I have already given each loan applicant an age group designation, so it should be fairly simple to answer this question."
   ]
  },
  {
   "cell_type": "code",
   "execution_count": 53,
   "metadata": {},
   "outputs": [
    {
     "name": "stderr",
     "output_type": "stream",
     "text": [
      "C:\\Users\\oscar\\AppData\\Local\\Temp\\ipykernel_44992\\2666120760.py:2: FutureWarning: The default of observed=False is deprecated and will be changed to True in a future version of pandas. Pass observed=False to retain current behavior or observed=True to adopt the future default and silence this warning.\n",
      "  X_test.groupby('person_age_group')['expect_default'].aggregate(np.mean)\n",
      "C:\\Users\\oscar\\AppData\\Local\\Temp\\ipykernel_44992\\2666120760.py:2: FutureWarning: The provided callable <function mean at 0x000001484D709790> is currently using SeriesGroupBy.mean. In a future version of pandas, the provided callable will be used directly. To keep current behavior pass the string \"mean\" instead.\n",
      "  X_test.groupby('person_age_group')['expect_default'].aggregate(np.mean)\n"
     ]
    },
    {
     "data": {
      "text/plain": [
       "person_age_group\n",
       "<30      0.175320\n",
       "30-50    0.153194\n",
       "50-70    0.166667\n",
       "70-90    0.500000\n",
       "90+           NaN\n",
       "Name: expect_default, dtype: float64"
      ]
     },
     "execution_count": 53,
     "metadata": {},
     "output_type": "execute_result"
    }
   ],
   "source": [
    "X_test['person_age_group'] = pd.cut(df_test[\"person_age\"], bins=bins, labels=labels, right=False)\n",
    "X_test.groupby('person_age_group')['expect_default'].aggregate(np.mean)"
   ]
  },
  {
   "cell_type": "markdown",
   "metadata": {},
   "source": [
    "With this summary table, we can see the model's interpretation of the average likelihood across age groups that a loan applicant will default on their loan payment, and therefore should be denied access to the bank's credit. It looks like the model believes the age group of 70-90 to be the riskiest by far, and then those who are <30 have a 17.53% expected chance of defaulting, followed by a 16.67% chance for those 50-70, and finally a 15.32% chance for those 30-50. However, as we have seen in the data exploration section of this blog post, the number of people in each age group in this data set is heavily skewed, with there being many more loan applicants on the younger side. Thus, it could be said that if there were more applicants in the 70-90 range, the model would assess their risk to be comparable to the other age groups, as opposed to the current outlier of 50% expected risk of default."
   ]
  },
  {
   "cell_type": "markdown",
   "metadata": {},
   "source": [
    "Question 2: Is it more difficult for people to get loans in order to pay for medical expenses? How does this compare with the actual rate of default in that group? What about people seeking loans for business ventures or education?"
   ]
  },
  {
   "cell_type": "code",
   "execution_count": 54,
   "metadata": {},
   "outputs": [
    {
     "name": "stderr",
     "output_type": "stream",
     "text": [
      "C:\\Users\\oscar\\AppData\\Local\\Temp\\ipykernel_44992\\29578798.py:1: FutureWarning: The provided callable <function mean at 0x000001484D709790> is currently using SeriesGroupBy.mean. In a future version of pandas, the provided callable will be used directly. To keep current behavior pass the string \"mean\" instead.\n",
      "  X_test.groupby('loan_intent_MEDICAL')['expect_default'].aggregate(np.mean)\n"
     ]
    },
    {
     "data": {
      "text/plain": [
       "loan_intent_MEDICAL\n",
       "False    0.160155\n",
       "True     0.209692\n",
       "Name: expect_default, dtype: float64"
      ]
     },
     "execution_count": 54,
     "metadata": {},
     "output_type": "execute_result"
    }
   ],
   "source": [
    "X_test.groupby('loan_intent_MEDICAL')['expect_default'].aggregate(np.mean)"
   ]
  },
  {
   "cell_type": "markdown",
   "metadata": {},
   "source": [
    "It appears that my model on average assigns a loan default risk score of 5% higher to those applying for a loan to pay off medical expenses than applicants intending to use the loan for other purposes."
   ]
  },
  {
   "cell_type": "code",
   "execution_count": 55,
   "metadata": {},
   "outputs": [
    {
     "name": "stderr",
     "output_type": "stream",
     "text": [
      "C:\\Users\\oscar\\AppData\\Local\\Temp\\ipykernel_44992\\3309084637.py:1: FutureWarning: The provided callable <function mean at 0x000001484D709790> is currently using SeriesGroupBy.mean. In a future version of pandas, the provided callable will be used directly. To keep current behavior pass the string \"mean\" instead.\n",
      "  df_test.groupby('loan_intent')['loan_status'].aggregate(np.mean)\n"
     ]
    },
    {
     "data": {
      "text/plain": [
       "loan_intent\n",
       "DEBTCONSOLIDATION    0.279497\n",
       "EDUCATION            0.167421\n",
       "HOMEIMPROVEMENT      0.246088\n",
       "MEDICAL              0.281553\n",
       "PERSONAL             0.219227\n",
       "VENTURE              0.145701\n",
       "Name: loan_status, dtype: float64"
      ]
     },
     "execution_count": 55,
     "metadata": {},
     "output_type": "execute_result"
    }
   ],
   "source": [
    "df_test.groupby('loan_intent')['loan_status'].aggregate(np.mean)"
   ]
  },
  {
   "cell_type": "markdown",
   "metadata": {},
   "source": [
    "While my model's expected default rate for medical expense loans is lower than the true default rate for medical expense loans (21% vs. 28%), it does reflect the fact that medical expense loans are more likely to be defaulted on than any other loan purposes."
   ]
  },
  {
   "cell_type": "code",
   "execution_count": 56,
   "metadata": {},
   "outputs": [
    {
     "name": "stderr",
     "output_type": "stream",
     "text": [
      "C:\\Users\\oscar\\AppData\\Local\\Temp\\ipykernel_44992\\4235614756.py:1: FutureWarning: The provided callable <function mean at 0x000001484D709790> is currently using SeriesGroupBy.mean. In a future version of pandas, the provided callable will be used directly. To keep current behavior pass the string \"mean\" instead.\n",
      "  X_test.groupby('loan_intent_EDUCATION')['expect_default'].aggregate(np.mean)\n"
     ]
    },
    {
     "data": {
      "text/plain": [
       "loan_intent_EDUCATION\n",
       "False    0.167728\n",
       "True     0.176020\n",
       "Name: expect_default, dtype: float64"
      ]
     },
     "execution_count": 56,
     "metadata": {},
     "output_type": "execute_result"
    }
   ],
   "source": [
    "X_test.groupby('loan_intent_EDUCATION')['expect_default'].aggregate(np.mean)"
   ]
  },
  {
   "cell_type": "code",
   "execution_count": 57,
   "metadata": {},
   "outputs": [
    {
     "name": "stderr",
     "output_type": "stream",
     "text": [
      "C:\\Users\\oscar\\AppData\\Local\\Temp\\ipykernel_44992\\4016549862.py:1: FutureWarning: The provided callable <function mean at 0x000001484D709790> is currently using SeriesGroupBy.mean. In a future version of pandas, the provided callable will be used directly. To keep current behavior pass the string \"mean\" instead.\n",
      "  X_test.groupby('loan_intent_VENTURE')['expect_default'].aggregate(np.mean)\n"
     ]
    },
    {
     "data": {
      "text/plain": [
       "loan_intent_VENTURE\n",
       "False    0.173904\n",
       "True     0.147303\n",
       "Name: expect_default, dtype: float64"
      ]
     },
     "execution_count": 57,
     "metadata": {},
     "output_type": "execute_result"
    }
   ],
   "source": [
    "X_test.groupby('loan_intent_VENTURE')['expect_default'].aggregate(np.mean)"
   ]
  },
  {
   "cell_type": "markdown",
   "metadata": {},
   "source": [
    "Furthermore, my model's assessment of the risk score for loan applications for the purposes of education or business ventures is far lower than those for medical expenses (17.6% and 14.7% respectively, against 21%). However, the model's risk score more accurately represents the true default rate of these two demographics, while the model's score for medical expense loans is, counterintuitively, lower than the true loan default rate. Perhaps this reflects the fact that my model uses the features of loan amount and applicant's income to a greater weight than loan intent when making an approval prediction."
   ]
  },
  {
   "cell_type": "markdown",
   "metadata": {},
   "source": [
    "Question 3: How does a person's income level impact the ease with which they can access credit under my decision system?"
   ]
  },
  {
   "cell_type": "code",
   "execution_count": 58,
   "metadata": {},
   "outputs": [
    {
     "name": "stderr",
     "output_type": "stream",
     "text": [
      "c:\\Users\\oscar\\anaconda3\\envs\\ml-0451\\lib\\site-packages\\seaborn\\categorical.py:1794: FutureWarning: use_inf_as_na option is deprecated and will be removed in a future version. Convert inf values to NaN before operating instead.\n",
      "  with pd.option_context('mode.use_inf_as_na', True):\n",
      "c:\\Users\\oscar\\anaconda3\\envs\\ml-0451\\lib\\site-packages\\seaborn\\categorical.py:1794: FutureWarning: use_inf_as_na option is deprecated and will be removed in a future version. Convert inf values to NaN before operating instead.\n",
      "  with pd.option_context('mode.use_inf_as_na', True):\n"
     ]
    },
    {
     "data": {
      "text/plain": [
       "<seaborn.axisgrid.FacetGrid at 0x1484eb6da90>"
      ]
     },
     "execution_count": 58,
     "metadata": {},
     "output_type": "execute_result"
    },
    {
     "data": {
      "image/png": "[encoded data removed]",
      "text/plain": [
       "<Figure size 500x500 with 1 Axes>"
      ]
     },
     "metadata": {},
     "output_type": "display_data"
    }
   ],
   "source": [
    "plot4 = sns.catplot(data= X_test, x= 'expect_default', y= 'person_income', kind= 'boxen')\n",
    "plot4.set(yscale= 'log')\n",
    "plot4.set(xlabel= \"Expected Default (Model)\", ylabel= \"Income (Log Scale)\", title= 'Predicted Default vs. Income')\n",
    "plot4"
   ]
  },
  {
   "cell_type": "markdown",
   "metadata": {},
   "source": [
    "Using this graph, it appears that there is a large influence that a loan applicant's income has on the model's assessment of whether the loan is expected to default or not. The higher a person's income is, the more likely that the model will not predict a default on loan payment. Since the scale used for income is a logarithmic scale, this advantage is likely starker than it initially appears in this visualization."
   ]
  },
  {
   "cell_type": "markdown",
   "metadata": {},
   "source": [
    "# Discussion\n",
    "In summary, this blog post has detailed the development and application of a machine learning-based logistic regression model for loan risk assessment and decision-making in the banking sector. Through the analysis of various applicant features, the model assigns risk scores to quantify applicants based on their expected risk of defaulting on a loan. Importantly, the post highlights the utility of threshold optimization for loan approval, showing how a bank could calculate the optimal balance between risk mitigation and profit maximization. My model gave the most importance to the data features of loan amount and applicant's income when assessing whether the loan applicant will default on payments.\n",
    "\n",
    "I define fairness as the equality of opportunity between individuals with similar features, not considering features that exist outside of their sphere of control. For example, if a bank is considering two identical applicants, but one has defaulted on a loan in the past, and the other has not, I believe that it would be considered 'fair' for a bank to deny the loan for the applicant with a history of defaulting, as the past loan default would be a feature of an applicant that they have control over. \n",
    "\n",
    "However, I believe that this conception of 'fairness' is put at odds with the very notion of machine learning, in that this model's main goal is to use historical data from many distinct loan applicants to predict the likelihood of repayment from a new applicant. In essence, this process relies heavily on features and data that lay outside the sphere of control of the new applicant, and uses this information in the decision process of loan approval. Simply because many applicants who seek loans for medical expenses have high rates of default, it will be far more difficult for new applicants seeking a loan for medical expenses to access credit. This does not adhere to my conception of fairness, as the new applicant has no control over whether the past loan applicants defaulted on or repaid their loans. Unfortunately, the use of historical data in prediction is one of the best tools available for banks to determine loan repayment success in new applicants and maximize profits."
   ]
  }
 ],
 "metadata": {
  "kernelspec": {
   "display_name": "ml-0451",
   "language": "python",
   "name": "python3"
  },
  "language_info": {
   "codemirror_mode": {
    "name": "ipython",
    "version": 3
   },
   "file_extension": ".py",
   "mimetype": "text/x-python",
   "name": "python",
   "nbconvert_exporter": "python",
   "pygments_lexer": "ipython3",
   "version": "3.9.18"
  }
 },
 "nbformat": 4,
 "nbformat_minor": 4
}
